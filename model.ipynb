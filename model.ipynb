{
 "cells": [
  {
   "cell_type": "code",
   "execution_count": 143,
   "metadata": {},
   "outputs": [],
   "source": [
    "import requests\n",
    "import numpy as np\n",
    "import pandas as pd\n",
    "import matplotlib.pyplot as plt"
   ]
  },
  {
   "cell_type": "code",
   "execution_count": null,
   "metadata": {},
   "outputs": [],
   "source": [
    "# zerodha----paid data\n",
    "# alphavantage----no NSE/BSE data\n",
    "# quandl----no intraday data\n",
    "# yfinance----working\n",
    "\n",
    "# https://algotrading101.com/learn/google-finance-api-guide/\n",
    "# https://github.com/ranaroussi/yfinance"
   ]
  },
  {
   "cell_type": "code",
   "execution_count": null,
   "metadata": {},
   "outputs": [],
   "source": [
    "!pip install autoscraper\n",
    "!pip install python-dateutil\n",
    "!pip install yfinance"
   ]
  },
  {
   "cell_type": "code",
   "execution_count": 65,
   "metadata": {},
   "outputs": [
    {
     "name": "stdout",
     "output_type": "stream",
     "text": [
      "['ADANIPORTS.NS', 'ASIANPAINT.NS', 'AXISBANK.NS', 'BAJAJ-AUTO.NS', 'BAJFINANCE.NS', 'BAJAJFINSV.NS', 'BHARTIARTL.NS', 'BPCL.NS', 'BRITANNIA.NS', 'CIPLA.NS', 'COALINDIA.NS', 'DIVISLAB.NS', 'DRREDDY.NS', 'EICHERMOT.NS', 'GRASIM.NS', 'HCLTECH.NS', 'HDFC.NS', 'HDFCBANK.NS', 'HDFCLIFE.NS', 'HEROMOTOCO.NS', 'HINDALCO.NS', 'HINDUNILVR.NS', 'ICICIBANK.NS', 'INDUSINDBK.NS', 'INFY.NS', 'IOC.NS', 'ITC.NS', 'JSWSTEEL.NS', 'KOTAKBANK.NS', 'LT.NS', 'M&M.NS', 'MARUTI.NS', 'NESTLEIND.NS', 'NTPC.NS', 'ONGC.NS', 'POWERGRID.NS', 'RELIANCE.NS', 'SBIN.NS', 'SBILIFE.NS', 'SHREECEM.NS', 'SUNPHARMA.NS', 'TATAMOTORS.NS', 'TATASTEEL.NS', 'TCS.NS', 'TATACONSUM.NS', 'TECHM.NS', 'TITAN.NS', 'ULTRACEMCO.NS', 'UPL.NS', 'WIPRO.NS']\n"
     ]
    }
   ],
   "source": [
    "#gettting list of NIFTY50 stocks\n",
    "from autoscraper import AutoScraper\n",
    "\n",
    "url='https://en.wikipedia.org/wiki/NIFTY_50'\n",
    "want_list=['ADANIPORTS.NS']\n",
    "\n",
    "#scrapping data from wikipedia\n",
    "scraper=AutoScraper()\n",
    "n50=scraper.build(url,want_list)\n",
    "\n",
    "n50=n50[0:50]\n",
    "print(n50)"
   ]
  },
  {
   "cell_type": "code",
   "execution_count": 150,
   "metadata": {},
   "outputs": [
    {
     "name": "stdout",
     "output_type": "stream",
     "text": [
      "[*********************100%***********************]  50 of 50 completed\n"
     ]
    }
   ],
   "source": [
    "import yfinance as yf\n",
    "from datetime import date\n",
    "from dateutil.relativedelta import relativedelta\n",
    "\n",
    "# we can only get last 60 days intraday day\n",
    "# so, setting dates accordingly\n",
    "end=str(date.today())\n",
    "start=str(date.today()+relativedelta(months=-2,days=+1))\n",
    "\n",
    "# appending symbols into a single string\n",
    "symbols_str=\"\"\n",
    "for s in n50:\n",
    "    symbols_str+=s+\" \"\n",
    "    \n",
    "# downloading last 60 days intraday(interval=2 mins) data of all symbols\n",
    "data=yf.download(tickers=symbols_str,interval='2m',auto_adjust=True,start=start,end=end)"
   ]
  },
  {
   "cell_type": "code",
   "execution_count": 149,
   "metadata": {},
   "outputs": [
    {
     "name": "stdout",
     "output_type": "stream",
     "text": [
      "ADANIPORTS.NS 564\n",
      "ASIANPAINT.NS 564\n",
      "AXISBANK.NS 0\n",
      "BAJAJ-AUTO.NS 0\n",
      "BAJFINANCE.NS 0\n",
      "BAJAJFINSV.NS 0\n",
      "BHARTIARTL.NS 0\n",
      "BPCL.NS 564\n",
      "BRITANNIA.NS 0\n",
      "CIPLA.NS 0\n",
      "COALINDIA.NS 564\n",
      "DIVISLAB.NS 0\n",
      "DRREDDY.NS 564\n",
      "EICHERMOT.NS 564\n",
      "GRASIM.NS 0\n",
      "HCLTECH.NS 0\n",
      "HDFC.NS 0\n",
      "HDFCBANK.NS 564\n",
      "HDFCLIFE.NS 564\n",
      "HEROMOTOCO.NS 564\n",
      "HINDALCO.NS 564\n",
      "HINDUNILVR.NS 564\n",
      "ICICIBANK.NS 564\n",
      "INDUSINDBK.NS 564\n",
      "INFY.NS 564\n",
      "IOC.NS 564\n",
      "ITC.NS 0\n",
      "JSWSTEEL.NS 0\n",
      "KOTAKBANK.NS 0\n",
      "LT.NS 0\n",
      "M&M.NS 0\n",
      "MARUTI.NS 564\n",
      "NESTLEIND.NS 564\n",
      "NTPC.NS 0\n",
      "ONGC.NS 564\n",
      "POWERGRID.NS 0\n",
      "RELIANCE.NS 0\n",
      "SBIN.NS 0\n",
      "SBILIFE.NS 0\n",
      "SHREECEM.NS 1\n",
      "SUNPHARMA.NS 564\n",
      "TATAMOTORS.NS 564\n",
      "TATASTEEL.NS 564\n",
      "TCS.NS 0\n",
      "TATACONSUM.NS 0\n",
      "TECHM.NS 564\n",
      "TITAN.NS 0\n",
      "ULTRACEMCO.NS 564\n",
      "UPL.NS 0\n",
      "WIPRO.NS 0\n"
     ]
    }
   ],
   "source": [
    "#checking nan values\n",
    "close={}\n",
    "for symbol in n50:\n",
    "    close[symbol]=data['Close'][symbol].to_numpy()\n",
    "    print(symbol,np.count_nonzero(np.isnan(close[symbol])))"
   ]
  },
  {
   "cell_type": "code",
   "execution_count": 153,
   "metadata": {},
   "outputs": [
    {
     "name": "stdout",
     "output_type": "stream",
     "text": [
      "ADANIPORTS.NS 0\n",
      "ASIANPAINT.NS 0\n",
      "AXISBANK.NS 0\n",
      "BAJAJ-AUTO.NS 0\n",
      "BAJFINANCE.NS 0\n",
      "BAJAJFINSV.NS 0\n",
      "BHARTIARTL.NS 0\n",
      "BPCL.NS 0\n",
      "BRITANNIA.NS 0\n",
      "CIPLA.NS 0\n",
      "COALINDIA.NS 0\n",
      "DIVISLAB.NS 0\n",
      "DRREDDY.NS 0\n",
      "EICHERMOT.NS 0\n",
      "GRASIM.NS 0\n",
      "HCLTECH.NS 0\n",
      "HDFC.NS 0\n",
      "HDFCBANK.NS 0\n",
      "HDFCLIFE.NS 0\n",
      "HEROMOTOCO.NS 0\n",
      "HINDALCO.NS 0\n",
      "HINDUNILVR.NS 0\n",
      "ICICIBANK.NS 0\n",
      "INDUSINDBK.NS 0\n",
      "INFY.NS 0\n",
      "IOC.NS 0\n",
      "ITC.NS 0\n",
      "JSWSTEEL.NS 0\n",
      "KOTAKBANK.NS 0\n",
      "LT.NS 0\n",
      "M&M.NS 0\n",
      "MARUTI.NS 0\n",
      "NESTLEIND.NS 0\n",
      "NTPC.NS 0\n",
      "ONGC.NS 0\n",
      "POWERGRID.NS 0\n",
      "RELIANCE.NS 0\n",
      "SBIN.NS 0\n",
      "SBILIFE.NS 0\n",
      "SHREECEM.NS 0\n",
      "SUNPHARMA.NS 0\n",
      "TATAMOTORS.NS 0\n",
      "TATASTEEL.NS 0\n",
      "TCS.NS 0\n",
      "TATACONSUM.NS 0\n",
      "TECHM.NS 0\n",
      "TITAN.NS 0\n",
      "ULTRACEMCO.NS 0\n",
      "UPL.NS 0\n",
      "WIPRO.NS 0\n"
     ]
    }
   ],
   "source": [
    "#removing nan values\n",
    "for symbol in n50:\n",
    "    close[symbol]= [c for c in close[symbol] if not np.isnan(c)] \n",
    "    print(symbol,np.count_nonzero(np.isnan(close[symbol])))"
   ]
  },
  {
   "cell_type": "code",
   "execution_count": 155,
   "metadata": {},
   "outputs": [
    {
     "data": {
      "text/plain": [
       "[<matplotlib.lines.Line2D at 0x1b01183b550>]"
      ]
     },
     "execution_count": 155,
     "metadata": {},
     "output_type": "execute_result"
    },
    {
     "data": {
      "image/png": "[encoded data removed]",
      "text/plain": [
       "<Figure size 432x288 with 1 Axes>"
      ]
     },
     "metadata": {
      "needs_background": "light"
     },
     "output_type": "display_data"
    }
   ],
   "source": [
    "# plot of closing price of ITC stock\n",
    "plt.plot(close['ITC.NS'])"
   ]
  },
  {
   "cell_type": "code",
   "execution_count": 159,
   "metadata": {},
   "outputs": [],
   "source": [
    "# scaling data in range (0,1)\n",
    "from sklearn.preprocessing import MinMaxScaler\n",
    "\n",
    "scaler={}\n",
    "for symbol,arr in close.items():\n",
    "    # defining min max scaler for the symbol\n",
    "    scaler[symbol]=MinMaxScaler(feature_range=(0,1))\n",
    "    \n",
    "    # scaling data\n",
    "    arr=scaler[symbol].fit_transform(np.array(arr).reshape(-1, 1))\n",
    "    close[symbol]=np.array(arr)\n",
    "    "
   ]
  },
  {
   "cell_type": "code",
   "execution_count": 225,
   "metadata": {},
   "outputs": [],
   "source": [
    "# generate sequence data to feed to RNN\n",
    "# X:[a0 a1 a2 ...... a59] Y:[a60] seq_size=60\n",
    "\n",
    "def generate_seq_data(data,seq_size):\n",
    "    #all elements except last index is X and last index is Y\n",
    "    seq_data=[]\n",
    "    for i in range(seq_size,len(data)):\n",
    "        seq_data.append(data[i-seq_size:i+1])\n",
    "        \n",
    "    return np.array(seq_data,dtype=\"object\").reshape(len(seq_data),seq_size+1)\n",
    "\n",
    "seq_data={}\n",
    "for symbol in n50:\n",
    "    seq_data[symbol]=generate_seq_data(close[symbol],60)\n"
   ]
  },
  {
   "cell_type": "code",
   "execution_count": 241,
   "metadata": {},
   "outputs": [
    {
     "data": {
      "text/plain": [
       "(5956, 61)"
      ]
     },
     "execution_count": 241,
     "metadata": {},
     "output_type": "execute_result"
    }
   ],
   "source": [
    "seq_data['ITC.NS'].shape"
   ]
  },
  {
   "cell_type": "code",
   "execution_count": 255,
   "metadata": {},
   "outputs": [],
   "source": [
    "X_train,Y_train,X_test,Y_test=[],[],[],[]\n",
    "\n",
    "for symbol in n50:\n",
    "    sd=seq_data[symbol]\n",
    "    \n",
    "    # splitting in 80:20 ratio\n",
    "    split_index=int(0.8*len(sd))\n",
    "    train=sd[0:split_index]\n",
    "    test=sd[split_index:]\n",
    "    \n",
    "    X_train.extend(train[:,:-1]) # all columns except last\n",
    "    Y_train.extend(train[:,-1]) # last column\n",
    "    \n",
    "    X_test.extend(test[:,:-1]) # all columns except last\n",
    "    Y_test.extend(test[:,-1]) # last column\n",
    "    \n",
    "X_train,Y_train,X_test,Y_test=np.array(X_train),np.array(Y_train),np.array(X_test),np.array(Y_test)"
   ]
  },
  {
   "cell_type": "code",
   "execution_count": 256,
   "metadata": {},
   "outputs": [
    {
     "name": "stdout",
     "output_type": "stream",
     "text": [
      "(227827, 60)\n",
      "(227827,)\n"
     ]
    }
   ],
   "source": [
    "print(X_train.shape)\n",
    "print(Y_train.shape)"
   ]
  },
  {
   "cell_type": "code",
   "execution_count": 257,
   "metadata": {},
   "outputs": [
    {
     "name": "stdout",
     "output_type": "stream",
     "text": [
      "(57000, 60)\n",
      "(57000,)\n"
     ]
    }
   ],
   "source": [
    "print(X_test.shape)\n",
    "print(Y_test.shape)"
   ]
  },
  {
   "cell_type": "code",
   "execution_count": 258,
   "metadata": {},
   "outputs": [],
   "source": [
    "# reshape input to be [samples, time steps, features] which is required for LSTM\n",
    "X_train=X_train.reshape(X_train.shape[0],X_train.shape[1] ,1)\n",
    "X_test=X_test.reshape(X_test.shape[0],X_test.shape[1],1)"
   ]
  },
  {
   "cell_type": "code",
   "execution_count": 259,
   "metadata": {},
   "outputs": [],
   "source": [
    "from tensorflow.keras.models import Sequential\n",
    "from tensorflow.keras.layers import Dense, LSTM"
   ]
  },
  {
   "cell_type": "code",
   "execution_count": 260,
   "metadata": {},
   "outputs": [],
   "source": [
    "# stacked LSTM\n",
    "model=Sequential()\n",
    "model.add(LSTM(50,return_sequences=True,input_shape=X_train[0].shape))\n",
    "model.add(LSTM(50,return_sequences=True))\n",
    "model.add(LSTM(50))\n",
    "model.add(Dense(1))\n",
    "model.compile(loss='mean_squared_error',optimizer='adam')"
   ]
  },
  {
   "cell_type": "code",
   "execution_count": 261,
   "metadata": {},
   "outputs": [
    {
     "name": "stdout",
     "output_type": "stream",
     "text": [
      "Model: \"sequential\"\n",
      "_________________________________________________________________\n",
      "Layer (type)                 Output Shape              Param #   \n",
      "=================================================================\n",
      "lstm (LSTM)                  (None, 60, 50)            10400     \n",
      "_________________________________________________________________\n",
      "lstm_1 (LSTM)                (None, 60, 50)            20200     \n",
      "_________________________________________________________________\n",
      "lstm_2 (LSTM)                (None, 50)                20200     \n",
      "_________________________________________________________________\n",
      "dense (Dense)                (None, 1)                 51        \n",
      "=================================================================\n",
      "Total params: 50,851\n",
      "Trainable params: 50,851\n",
      "Non-trainable params: 0\n",
      "_________________________________________________________________\n"
     ]
    }
   ],
   "source": [
    "model.summary()"
   ]
  },
  {
   "cell_type": "code",
   "execution_count": 263,
   "metadata": {},
   "outputs": [],
   "source": [
    "X_train=np.asarray(X_train).astype(np.float32)\n",
    "Y_train=np.asarray(Y_train).astype(np.float32)\n",
    "X_test=np.asarray(X_test).astype(np.float32)\n",
    "Y_test=np.asarray(Y_test).astype(np.float32)"
   ]
  },
  {
   "cell_type": "code",
   "execution_count": 265,
   "metadata": {},
   "outputs": [],
   "source": [
    "model.fit(X_train,Y_train,validation_data=(X_test,Y_test),epochs=100,batch_size=64,verbose=1)"
   ]
  },
  {
   "cell_type": "code",
   "execution_count": null,
   "metadata": {},
   "outputs": [],
   "source": [
    "# create train and test\n",
    "# define LSTM model\n",
    "# train data\n",
    "# evaluate model on test data and cal RMSE"
   ]
  }
 ],
 "metadata": {
  "kernelspec": {
   "display_name": "Python 3",
   "language": "python",
   "name": "python3"
  },
  "language_info": {
   "codemirror_mode": {
    "name": "ipython",
    "version": 3
   },
   "file_extension": ".py",
   "mimetype": "text/x-python",
   "name": "python",
   "nbconvert_exporter": "python",
   "pygments_lexer": "ipython3",
   "version": "3.8.5"
  }
 },
 "nbformat": 4,
 "nbformat_minor": 4
}

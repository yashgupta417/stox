{
  "nbformat": 4,
  "nbformat_minor": 0,
  "metadata": {
    "kernelspec": {
      "display_name": "Python 3",
      "language": "python",
      "name": "python3"
    },
    "language_info": {
      "codemirror_mode": {
        "name": "ipython",
        "version": 3
      },
      "file_extension": ".py",
      "mimetype": "text/x-python",
      "name": "python",
      "nbconvert_exporter": "python",
      "pygments_lexer": "ipython3",
      "version": "3.8.5"
    },
    "colab": {
      "name": "model.ipynb",
      "provenance": []
    },
    "accelerator": "GPU"
  },
  "cells": [
    {
      "cell_type": "code",
      "metadata": {
        "id": "7PV0iIRk04_G"
      },
      "source": [
        "import requests\n",
        "import numpy as np\n",
        "import pandas as pd\n",
        "import matplotlib.pyplot as plt"
      ],
      "execution_count": 22,
      "outputs": []
    },
    {
      "cell_type": "code",
      "metadata": {
        "id": "6USnolsa04_M"
      },
      "source": [
        "# zerodha----paid data\n",
        "# alphavantage----no NSE/BSE data\n",
        "# quandl----no intraday data\n",
        "# yfinance----working\n",
        "\n",
        "# https://algotrading101.com/learn/google-finance-api-guide/\n",
        "# https://github.com/ranaroussi/yfinance"
      ],
      "execution_count": 23,
      "outputs": []
    },
    {
      "cell_type": "code",
      "metadata": {
        "id": "hdWZJCIj04_N",
        "outputId": "44789ea4-7352-44b4-caa5-5fe9ac35dc39",
        "colab": {
          "base_uri": "https://localhost:8080/"
        }
      },
      "source": [
        "!pip install autoscraper\n",
        "!pip install python-dateutil\n",
        "!pip install yfinance"
      ],
      "execution_count": 24,
      "outputs": [
        {
          "output_type": "stream",
          "text": [
            "Requirement already satisfied: autoscraper in /usr/local/lib/python3.7/dist-packages (1.1.12)\n",
            "Requirement already satisfied: lxml in /usr/local/lib/python3.7/dist-packages (from autoscraper) (4.6.3)\n",
            "Requirement already satisfied: requests in /usr/local/lib/python3.7/dist-packages (from autoscraper) (2.23.0)\n",
            "Requirement already satisfied: bs4 in /usr/local/lib/python3.7/dist-packages (from autoscraper) (0.0.1)\n",
            "Requirement already satisfied: urllib3!=1.25.0,!=1.25.1,<1.26,>=1.21.1 in /usr/local/lib/python3.7/dist-packages (from requests->autoscraper) (1.24.3)\n",
            "Requirement already satisfied: chardet<4,>=3.0.2 in /usr/local/lib/python3.7/dist-packages (from requests->autoscraper) (3.0.4)\n",
            "Requirement already satisfied: idna<3,>=2.5 in /usr/local/lib/python3.7/dist-packages (from requests->autoscraper) (2.10)\n",
            "Requirement already satisfied: certifi>=2017.4.17 in /usr/local/lib/python3.7/dist-packages (from requests->autoscraper) (2020.12.5)\n",
            "Requirement already satisfied: beautifulsoup4 in /usr/local/lib/python3.7/dist-packages (from bs4->autoscraper) (4.6.3)\n",
            "Requirement already satisfied: python-dateutil in /usr/local/lib/python3.7/dist-packages (2.8.1)\n",
            "Requirement already satisfied: six>=1.5 in /usr/local/lib/python3.7/dist-packages (from python-dateutil) (1.15.0)\n",
            "Requirement already satisfied: yfinance in /usr/local/lib/python3.7/dist-packages (0.1.59)\n",
            "Requirement already satisfied: pandas>=0.24 in /usr/local/lib/python3.7/dist-packages (from yfinance) (1.1.5)\n",
            "Requirement already satisfied: multitasking>=0.0.7 in /usr/local/lib/python3.7/dist-packages (from yfinance) (0.0.9)\n",
            "Requirement already satisfied: requests>=2.20 in /usr/local/lib/python3.7/dist-packages (from yfinance) (2.23.0)\n",
            "Requirement already satisfied: numpy>=1.15 in /usr/local/lib/python3.7/dist-packages (from yfinance) (1.19.5)\n",
            "Requirement already satisfied: lxml>=4.5.1 in /usr/local/lib/python3.7/dist-packages (from yfinance) (4.6.3)\n",
            "Requirement already satisfied: pytz>=2017.2 in /usr/local/lib/python3.7/dist-packages (from pandas>=0.24->yfinance) (2018.9)\n",
            "Requirement already satisfied: python-dateutil>=2.7.3 in /usr/local/lib/python3.7/dist-packages (from pandas>=0.24->yfinance) (2.8.1)\n",
            "Requirement already satisfied: urllib3!=1.25.0,!=1.25.1,<1.26,>=1.21.1 in /usr/local/lib/python3.7/dist-packages (from requests>=2.20->yfinance) (1.24.3)\n",
            "Requirement already satisfied: certifi>=2017.4.17 in /usr/local/lib/python3.7/dist-packages (from requests>=2.20->yfinance) (2020.12.5)\n",
            "Requirement already satisfied: idna<3,>=2.5 in /usr/local/lib/python3.7/dist-packages (from requests>=2.20->yfinance) (2.10)\n",
            "Requirement already satisfied: chardet<4,>=3.0.2 in /usr/local/lib/python3.7/dist-packages (from requests>=2.20->yfinance) (3.0.4)\n",
            "Requirement already satisfied: six>=1.5 in /usr/local/lib/python3.7/dist-packages (from python-dateutil>=2.7.3->pandas>=0.24->yfinance) (1.15.0)\n"
          ],
          "name": "stdout"
        }
      ]
    },
    {
      "cell_type": "code",
      "metadata": {
        "id": "HzxEQ5qx04_O",
        "outputId": "0d08191a-2388-416d-eb45-d4d2e8a16f88",
        "colab": {
          "base_uri": "https://localhost:8080/"
        }
      },
      "source": [
        "#gettting list of NIFTY50 stocks\n",
        "from autoscraper import AutoScraper\n",
        "\n",
        "url='https://en.wikipedia.org/wiki/NIFTY_50'\n",
        "want_list=['ADANIPORTS.NS']\n",
        "\n",
        "#scrapping data from wikipedia\n",
        "scraper=AutoScraper()\n",
        "n50=scraper.build(url,want_list)\n",
        "\n",
        "n50=n50[0:50]\n",
        "print(n50)"
      ],
      "execution_count": 25,
      "outputs": [
        {
          "output_type": "stream",
          "text": [
            "['ADANIPORTS.NS', 'ASIANPAINT.NS', 'AXISBANK.NS', 'BAJAJ-AUTO.NS', 'BAJFINANCE.NS', 'BAJAJFINSV.NS', 'BHARTIARTL.NS', 'BPCL.NS', 'BRITANNIA.NS', 'CIPLA.NS', 'COALINDIA.NS', 'DIVISLAB.NS', 'DRREDDY.NS', 'EICHERMOT.NS', 'GRASIM.NS', 'HCLTECH.NS', 'HDFC.NS', 'HDFCBANK.NS', 'HDFCLIFE.NS', 'HEROMOTOCO.NS', 'HINDALCO.NS', 'HINDUNILVR.NS', 'ICICIBANK.NS', 'INDUSINDBK.NS', 'INFY.NS', 'IOC.NS', 'ITC.NS', 'JSWSTEEL.NS', 'KOTAKBANK.NS', 'LT.NS', 'M&M.NS', 'MARUTI.NS', 'NESTLEIND.NS', 'NTPC.NS', 'ONGC.NS', 'POWERGRID.NS', 'RELIANCE.NS', 'SBIN.NS', 'SBILIFE.NS', 'SHREECEM.NS', 'SUNPHARMA.NS', 'TATAMOTORS.NS', 'TATASTEEL.NS', 'TCS.NS', 'TATACONSUM.NS', 'TECHM.NS', 'TITAN.NS', 'ULTRACEMCO.NS', 'UPL.NS', 'WIPRO.NS']\n"
          ],
          "name": "stdout"
        }
      ]
    },
    {
      "cell_type": "code",
      "metadata": {
        "id": "85uGz8Lb04_O",
        "outputId": "38028254-c7b2-4506-9111-f3c1c3542a51",
        "colab": {
          "base_uri": "https://localhost:8080/"
        }
      },
      "source": [
        "import yfinance as yf\n",
        "from datetime import date\n",
        "from dateutil.relativedelta import relativedelta\n",
        "\n",
        "# we can only get last 60 days intraday day\n",
        "# so, setting dates accordingly\n",
        "end=str(date.today())\n",
        "start=str(date.today()+relativedelta(months=-2,days=+1))\n",
        "\n",
        "# appending symbols into a single string\n",
        "symbols_str=\"\"\n",
        "for s in n50:\n",
        "    symbols_str+=s+\" \"\n",
        "    \n",
        "# downloading last 60 days intraday(interval=2 mins) data of all symbols\n",
        "data=yf.download(tickers=symbols_str,interval='2m',auto_adjust=True,start=start,end=end)"
      ],
      "execution_count": 26,
      "outputs": [
        {
          "output_type": "stream",
          "text": [
            "[*********************100%***********************]  50 of 50 completed\n"
          ],
          "name": "stdout"
        }
      ]
    },
    {
      "cell_type": "code",
      "metadata": {
        "id": "Z-S6AZhR04_P",
        "outputId": "a1ff01c2-02d4-4ba3-8de6-022d9e079c43",
        "colab": {
          "base_uri": "https://localhost:8080/"
        }
      },
      "source": [
        "#checking nan values\n",
        "close={}\n",
        "for symbol in n50:\n",
        "    close[symbol]=data['Close'][symbol].to_numpy()\n",
        "    print(symbol,np.count_nonzero(np.isnan(close[symbol])))"
      ],
      "execution_count": 46,
      "outputs": [
        {
          "output_type": "stream",
          "text": [
            "ADANIPORTS.NS 3\n",
            "ASIANPAINT.NS 2\n",
            "AXISBANK.NS 2\n",
            "BAJAJ-AUTO.NS 2\n",
            "BAJFINANCE.NS 2\n",
            "BAJAJFINSV.NS 2\n",
            "BHARTIARTL.NS 2\n",
            "BPCL.NS 2\n",
            "BRITANNIA.NS 2\n",
            "CIPLA.NS 3\n",
            "COALINDIA.NS 2\n",
            "DIVISLAB.NS 3\n",
            "DRREDDY.NS 2\n",
            "EICHERMOT.NS 2\n",
            "GRASIM.NS 3\n",
            "HCLTECH.NS 2\n",
            "HDFC.NS 2\n",
            "HDFCBANK.NS 2\n",
            "HDFCLIFE.NS 2\n",
            "HEROMOTOCO.NS 4\n",
            "HINDALCO.NS 2\n",
            "HINDUNILVR.NS 2\n",
            "ICICIBANK.NS 2\n",
            "INDUSINDBK.NS 2\n",
            "INFY.NS 2\n",
            "IOC.NS 2\n",
            "ITC.NS 2\n",
            "JSWSTEEL.NS 2\n",
            "KOTAKBANK.NS 2\n",
            "LT.NS 1\n",
            "M&M.NS 2\n",
            "MARUTI.NS 2\n",
            "NESTLEIND.NS 3\n",
            "NTPC.NS 1\n",
            "ONGC.NS 2\n",
            "POWERGRID.NS 2\n",
            "RELIANCE.NS 2\n",
            "SBIN.NS 2\n",
            "SBILIFE.NS 2\n",
            "SHREECEM.NS 4\n",
            "SUNPHARMA.NS 2\n",
            "TATAMOTORS.NS 2\n",
            "TATASTEEL.NS 2\n",
            "TCS.NS 2\n",
            "TATACONSUM.NS 2\n",
            "TECHM.NS 2\n",
            "TITAN.NS 2\n",
            "ULTRACEMCO.NS 2\n",
            "UPL.NS 2\n",
            "WIPRO.NS 2\n"
          ],
          "name": "stdout"
        }
      ]
    },
    {
      "cell_type": "code",
      "metadata": {
        "id": "S07oOvj104_P",
        "outputId": "08afbdbf-697d-41f3-d112-190fdd4309ae",
        "colab": {
          "base_uri": "https://localhost:8080/"
        }
      },
      "source": [
        "#removing nan values\n",
        "for symbol in n50:\n",
        "    close[symbol]= [c for c in close[symbol] if not np.isnan(c)] \n",
        "    print(symbol,np.count_nonzero(np.isnan(close[symbol])))"
      ],
      "execution_count": 47,
      "outputs": [
        {
          "output_type": "stream",
          "text": [
            "ADANIPORTS.NS 0\n",
            "ASIANPAINT.NS 0\n",
            "AXISBANK.NS 0\n",
            "BAJAJ-AUTO.NS 0\n",
            "BAJFINANCE.NS 0\n",
            "BAJAJFINSV.NS 0\n",
            "BHARTIARTL.NS 0\n",
            "BPCL.NS 0\n",
            "BRITANNIA.NS 0\n",
            "CIPLA.NS 0\n",
            "COALINDIA.NS 0\n",
            "DIVISLAB.NS 0\n",
            "DRREDDY.NS 0\n",
            "EICHERMOT.NS 0\n",
            "GRASIM.NS 0\n",
            "HCLTECH.NS 0\n",
            "HDFC.NS 0\n",
            "HDFCBANK.NS 0\n",
            "HDFCLIFE.NS 0\n",
            "HEROMOTOCO.NS 0\n",
            "HINDALCO.NS 0\n",
            "HINDUNILVR.NS 0\n",
            "ICICIBANK.NS 0\n",
            "INDUSINDBK.NS 0\n",
            "INFY.NS 0\n",
            "IOC.NS 0\n",
            "ITC.NS 0\n",
            "JSWSTEEL.NS 0\n",
            "KOTAKBANK.NS 0\n",
            "LT.NS 0\n",
            "M&M.NS 0\n",
            "MARUTI.NS 0\n",
            "NESTLEIND.NS 0\n",
            "NTPC.NS 0\n",
            "ONGC.NS 0\n",
            "POWERGRID.NS 0\n",
            "RELIANCE.NS 0\n",
            "SBIN.NS 0\n",
            "SBILIFE.NS 0\n",
            "SHREECEM.NS 0\n",
            "SUNPHARMA.NS 0\n",
            "TATAMOTORS.NS 0\n",
            "TATASTEEL.NS 0\n",
            "TCS.NS 0\n",
            "TATACONSUM.NS 0\n",
            "TECHM.NS 0\n",
            "TITAN.NS 0\n",
            "ULTRACEMCO.NS 0\n",
            "UPL.NS 0\n",
            "WIPRO.NS 0\n"
          ],
          "name": "stdout"
        }
      ]
    },
    {
      "cell_type": "code",
      "metadata": {
        "id": "e7_axRSK04_Q",
        "outputId": "48f60493-c3e0-45f4-d1bb-297e2697591b",
        "colab": {
          "base_uri": "https://localhost:8080/",
          "height": 282
        }
      },
      "source": [
        "# plot of closing price of ITC stock\n",
        "plt.plot(close['ITC.NS'])"
      ],
      "execution_count": 48,
      "outputs": [
        {
          "output_type": "execute_result",
          "data": {
            "text/plain": [
              "[<matplotlib.lines.Line2D at 0x7f72f1ffbc10>]"
            ]
          },
          "metadata": {
            "tags": []
          },
          "execution_count": 48
        },
        {
          "output_type": "display_data",
          "data": {
            "image/png": "[encoded data removed]",
            "text/plain": [
              "<Figure size 432x288 with 1 Axes>"
            ]
          },
          "metadata": {
            "tags": [],
            "needs_background": "light"
          }
        }
      ]
    },
    {
      "cell_type": "code",
      "metadata": {
        "id": "JxDfQuYx04_Q"
      },
      "source": [
        "# scaling data in range (0,1)\n",
        "from sklearn.preprocessing import MinMaxScaler\n",
        "\n",
        "scaler={}\n",
        "for symbol,arr in close.items():\n",
        "    # defining min max scaler for the symbol\n",
        "    scaler[symbol]=MinMaxScaler(feature_range=(0,1))\n",
        "    \n",
        "    # scaling data\n",
        "    arr=scaler[symbol].fit_transform(np.array(arr).reshape(-1, 1))\n",
        "    close[symbol]=np.array(arr)\n",
        "    "
      ],
      "execution_count": 49,
      "outputs": []
    },
    {
      "cell_type": "code",
      "metadata": {
        "id": "hr6lDE0j04_R"
      },
      "source": [
        "# generate sequence data to feed to RNN\n",
        "# X:[a0 a1 a2 ...... a59] Y:[a60] seq_size=60\n",
        "\n",
        "def generate_seq_data(data,seq_size):\n",
        "    #all elements except last index is X and last index is Y\n",
        "    seq_data=[]\n",
        "    for i in range(seq_size,len(data)):\n",
        "        seq_data.append(data[i-seq_size:i+1])\n",
        "        \n",
        "    return np.array(seq_data,dtype=\"object\").reshape(len(seq_data),seq_size+1)\n",
        "\n",
        "seq_data={}\n",
        "for symbol in n50:\n",
        "    seq_data[symbol]=generate_seq_data(close[symbol],60)\n"
      ],
      "execution_count": 50,
      "outputs": []
    },
    {
      "cell_type": "code",
      "metadata": {
        "id": "LtoBxbYn04_R",
        "outputId": "113e38b4-11da-4aaa-ec79-2d61478f8f0b",
        "colab": {
          "base_uri": "https://localhost:8080/"
        }
      },
      "source": [
        "seq_data['ITC.NS'].shape"
      ],
      "execution_count": 51,
      "outputs": [
        {
          "output_type": "execute_result",
          "data": {
            "text/plain": [
              "(5935, 61)"
            ]
          },
          "metadata": {
            "tags": []
          },
          "execution_count": 51
        }
      ]
    },
    {
      "cell_type": "code",
      "metadata": {
        "id": "Oyl1vouL04_R"
      },
      "source": [
        "X_train,Y_train,X_test,Y_test=[],[],[],[]\n",
        "splitted_data={}\n",
        "\n",
        "for symbol in n50:\n",
        "    sd=seq_data[symbol]\n",
        "    \n",
        "    # splitting in 80:20 ratio\n",
        "    split_index=int(0.8*len(sd))\n",
        "    train=sd[0:split_index]\n",
        "    test=sd[split_index:]\n",
        "    \n",
        "    X_train.extend(train[:,:-1]) # all columns except last\n",
        "    Y_train.extend(train[:,-1]) # last column\n",
        "    \n",
        "    X_test.extend(test[:,:-1]) # all columns except last\n",
        "    Y_test.extend(test[:,-1]) # last column\n",
        "\n",
        "    splitted_data[symbol]=[X_train,Y_train,X_test,Y_test]\n",
        "    \n",
        "X_train,Y_train,X_test,Y_test=np.array(X_train),np.array(Y_train),np.array(X_test),np.array(Y_test)\n"
      ],
      "execution_count": 53,
      "outputs": []
    },
    {
      "cell_type": "code",
      "metadata": {
        "id": "1AuNQLAt04_S",
        "outputId": "781a5766-0f4a-4666-c71f-0c5ebb183e7d",
        "colab": {
          "base_uri": "https://localhost:8080/"
        }
      },
      "source": [
        "print(X_train.shape)\n",
        "print(Y_train.shape)"
      ],
      "execution_count": 34,
      "outputs": [
        {
          "output_type": "stream",
          "text": [
            "(237391, 60)\n",
            "(237391,)\n"
          ],
          "name": "stdout"
        }
      ]
    },
    {
      "cell_type": "code",
      "metadata": {
        "id": "Grao2Wqb04_S",
        "outputId": "4e6393f0-51f1-465a-c3b4-9a6657d298de",
        "colab": {
          "base_uri": "https://localhost:8080/"
        }
      },
      "source": [
        "print(X_test.shape)\n",
        "print(Y_test.shape)"
      ],
      "execution_count": 35,
      "outputs": [
        {
          "output_type": "stream",
          "text": [
            "(59352, 60)\n",
            "(59352,)\n"
          ],
          "name": "stdout"
        }
      ]
    },
    {
      "cell_type": "code",
      "metadata": {
        "id": "KscHd1_H04_S"
      },
      "source": [
        "# reshape input to be [samples, time steps, features] which is required for LSTM\n",
        "X_train=X_train.reshape(X_train.shape[0],X_train.shape[1] ,1)\n",
        "X_test=X_test.reshape(X_test.shape[0],X_test.shape[1],1)"
      ],
      "execution_count": 36,
      "outputs": []
    },
    {
      "cell_type": "code",
      "metadata": {
        "id": "jiXRVnlL04_T"
      },
      "source": [
        "from tensorflow.keras.models import Sequential\n",
        "from tensorflow.keras.layers import Dense, LSTM"
      ],
      "execution_count": 37,
      "outputs": []
    },
    {
      "cell_type": "code",
      "metadata": {
        "id": "FFNmXeaL04_T"
      },
      "source": [
        "# stacked LSTM\n",
        "model=Sequential()\n",
        "model.add(LSTM(50,return_sequences=True,input_shape=X_train[0].shape))\n",
        "model.add(LSTM(50,return_sequences=True))\n",
        "model.add(LSTM(50))\n",
        "model.add(Dense(1))\n",
        "model.compile(loss='mean_squared_error',optimizer='adam')"
      ],
      "execution_count": 38,
      "outputs": []
    },
    {
      "cell_type": "code",
      "metadata": {
        "id": "rBPLkQ4r04_T",
        "outputId": "b5ddf3e1-0af3-4978-ceed-969a0bdf41e0",
        "colab": {
          "base_uri": "https://localhost:8080/"
        }
      },
      "source": [
        "model.summary()"
      ],
      "execution_count": 39,
      "outputs": [
        {
          "output_type": "stream",
          "text": [
            "Model: \"sequential_1\"\n",
            "_________________________________________________________________\n",
            "Layer (type)                 Output Shape              Param #   \n",
            "=================================================================\n",
            "lstm_3 (LSTM)                (None, 60, 50)            10400     \n",
            "_________________________________________________________________\n",
            "lstm_4 (LSTM)                (None, 60, 50)            20200     \n",
            "_________________________________________________________________\n",
            "lstm_5 (LSTM)                (None, 50)                20200     \n",
            "_________________________________________________________________\n",
            "dense_1 (Dense)              (None, 1)                 51        \n",
            "=================================================================\n",
            "Total params: 50,851\n",
            "Trainable params: 50,851\n",
            "Non-trainable params: 0\n",
            "_________________________________________________________________\n"
          ],
          "name": "stdout"
        }
      ]
    },
    {
      "cell_type": "code",
      "metadata": {
        "id": "qpjF-EpZ04_T"
      },
      "source": [
        "X_train=np.asarray(X_train).astype(np.float32)\n",
        "Y_train=np.asarray(Y_train).astype(np.float32)\n",
        "X_test=np.asarray(X_test).astype(np.float32)\n",
        "Y_test=np.asarray(Y_test).astype(np.float32)"
      ],
      "execution_count": 40,
      "outputs": []
    },
    {
      "cell_type": "code",
      "metadata": {
        "id": "QLUniSga04_U",
        "outputId": "d93a1bb5-4da4-430c-b7a1-4d7a2e038846",
        "colab": {
          "base_uri": "https://localhost:8080/"
        }
      },
      "source": [
        "model.fit(X_train,Y_train,validation_data=(X_test,Y_test),epochs=5,batch_size=128,verbose=1)"
      ],
      "execution_count": 41,
      "outputs": [
        {
          "output_type": "stream",
          "text": [
            "Epoch 1/5\n",
            "1855/1855 [==============================] - 97s 50ms/step - loss: 0.0042 - val_loss: 2.2773e-04\n",
            "Epoch 2/5\n",
            "1855/1855 [==============================] - 91s 49ms/step - loss: 1.7025e-04 - val_loss: 1.0788e-04\n",
            "Epoch 3/5\n",
            "1855/1855 [==============================] - 91s 49ms/step - loss: 1.1057e-04 - val_loss: 9.5982e-05\n",
            "Epoch 4/5\n",
            "1855/1855 [==============================] - 90s 49ms/step - loss: 1.0992e-04 - val_loss: 1.0130e-04\n",
            "Epoch 5/5\n",
            "1855/1855 [==============================] - 90s 49ms/step - loss: 1.0085e-04 - val_loss: 9.4276e-05\n"
          ],
          "name": "stdout"
        },
        {
          "output_type": "execute_result",
          "data": {
            "text/plain": [
              "<tensorflow.python.keras.callbacks.History at 0x7f72f686ded0>"
            ]
          },
          "metadata": {
            "tags": []
          },
          "execution_count": 41
        }
      ]
    },
    {
      "cell_type": "code",
      "metadata": {
        "id": "y21QBmon8rXu",
        "outputId": "f6f0df57-63ce-4512-c1c5-e5d2886dff57",
        "colab": {
          "base_uri": "https://localhost:8080/"
        }
      },
      "source": [
        "pred=model.predict(X_test)\n",
        "\n",
        "import math\n",
        "from sklearn.metrics import mean_squared_error\n",
        "math.sqrt(mean_squared_error(Y_test,pred))"
      ],
      "execution_count": 43,
      "outputs": [
        {
          "output_type": "execute_result",
          "data": {
            "text/plain": [
              "0.00970957173823753"
            ]
          },
          "metadata": {
            "tags": []
          },
          "execution_count": 43
        }
      ]
    },
    {
      "cell_type": "code",
      "metadata": {
        "id": "rEVV-iAe9k1L",
        "outputId": "5bf3a3ac-5ce6-49e8-df57-924a26f07f05",
        "colab": {
          "base_uri": "https://localhost:8080/",
          "height": 483
        }
      },
      "source": [
        "stock_symbol='ITC.NS'\n",
        "seq_stock=seq_data[stock_symbol][:,:-1].reshape(len(seq_data[stock_symbol]),60,1)\n",
        "pred=model.predict(np.asarray(seq_stock).astype(np.float32))\n",
        "actual=seq_data[stock_symbol][:,-1]\n",
        "\n",
        "pred=scaler[stock_symbol].inverse_transform(pred)\n",
        "actual=scaler[stock_symbol].inverse_transform(actual.reshape(-1,1))\n",
        "\n",
        "plt.figure(figsize=(13, 8))\n",
        "\n",
        "plt.plot(actual)\n",
        "plt.plot(pred,)\n",
        "\n",
        "plt.show()"
      ],
      "execution_count": 81,
      "outputs": [
        {
          "output_type": "display_data",
          "data": {
            "image/png": "[encoded data removed]",
            "text/plain": [
              "<Figure size 936x576 with 1 Axes>"
            ]
          },
          "metadata": {
            "tags": [],
            "needs_background": "light"
          }
        }
      ]
    },
    {
      "cell_type": "code",
      "metadata": {
        "id": "Cuo3josCF9oj"
      },
      "source": [
        "model.save('stox.h5')"
      ],
      "execution_count": 82,
      "outputs": []
    },
    {
      "cell_type": "code",
      "metadata": {
        "id": "mzPLvScMGx4Y"
      },
      "source": [
        ""
      ],
      "execution_count": null,
      "outputs": []
    }
  ]
}
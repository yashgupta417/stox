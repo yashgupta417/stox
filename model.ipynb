{
  "nbformat": 4,
  "nbformat_minor": 0,
  "metadata": {
    "kernelspec": {
      "display_name": "Python 3",
      "language": "python",
      "name": "python3"
    },
    "language_info": {
      "codemirror_mode": {
        "name": "ipython",
        "version": 3
      },
      "file_extension": ".py",
      "mimetype": "text/x-python",
      "name": "python",
      "nbconvert_exporter": "python",
      "pygments_lexer": "ipython3",
      "version": "3.8.5"
    },
    "colab": {
      "name": "model.ipynb",
      "provenance": []
    },
    "accelerator": "GPU"
  },
  "cells": [
    {
      "cell_type": "code",
      "metadata": {
        "id": "7PV0iIRk04_G"
      },
      "source": [
        "import requests\n",
        "import numpy as np\n",
        "import pandas as pd\n",
        "import matplotlib.pyplot as plt"
      ],
      "execution_count": 1,
      "outputs": []
    },
    {
      "cell_type": "code",
      "metadata": {
        "id": "6USnolsa04_M"
      },
      "source": [
        "# zerodha----paid data\n",
        "# alphavantage----no NSE/BSE data\n",
        "# quandl----no intraday data\n",
        "# yfinance----working\n",
        "\n",
        "# https://algotrading101.com/learn/google-finance-api-guide/\n",
        "# https://github.com/ranaroussi/yfinance"
      ],
      "execution_count": null,
      "outputs": []
    },
    {
      "cell_type": "code",
      "metadata": {
        "id": "hdWZJCIj04_N",
        "colab": {
          "base_uri": "https://localhost:8080/"
        },
        "outputId": "acd481ec-d8c7-40c7-d84f-4eb2fb7cbf64"
      },
      "source": [
        "!pip install autoscraper\n",
        "!pip install python-dateutil\n",
        "!pip install yfinance"
      ],
      "execution_count": 2,
      "outputs": [
        {
          "output_type": "stream",
          "text": [
            "Collecting autoscraper\n",
            "  Downloading https://files.pythonhosted.org/packages/50/44/553afbb7624aaa16e71546196c1f3beb170dd555a2822785889a9da5c2e7/autoscraper-1.1.12-py3-none-any.whl\n",
            "Requirement already satisfied: lxml in /usr/local/lib/python3.7/dist-packages (from autoscraper) (4.2.6)\n",
            "Requirement already satisfied: requests in /usr/local/lib/python3.7/dist-packages (from autoscraper) (2.23.0)\n",
            "Requirement already satisfied: bs4 in /usr/local/lib/python3.7/dist-packages (from autoscraper) (0.0.1)\n",
            "Requirement already satisfied: certifi>=2017.4.17 in /usr/local/lib/python3.7/dist-packages (from requests->autoscraper) (2020.12.5)\n",
            "Requirement already satisfied: idna<3,>=2.5 in /usr/local/lib/python3.7/dist-packages (from requests->autoscraper) (2.10)\n",
            "Requirement already satisfied: urllib3!=1.25.0,!=1.25.1,<1.26,>=1.21.1 in /usr/local/lib/python3.7/dist-packages (from requests->autoscraper) (1.24.3)\n",
            "Requirement already satisfied: chardet<4,>=3.0.2 in /usr/local/lib/python3.7/dist-packages (from requests->autoscraper) (3.0.4)\n",
            "Requirement already satisfied: beautifulsoup4 in /usr/local/lib/python3.7/dist-packages (from bs4->autoscraper) (4.6.3)\n",
            "Installing collected packages: autoscraper\n",
            "Successfully installed autoscraper-1.1.12\n",
            "Requirement already satisfied: python-dateutil in /usr/local/lib/python3.7/dist-packages (2.8.1)\n",
            "Requirement already satisfied: six>=1.5 in /usr/local/lib/python3.7/dist-packages (from python-dateutil) (1.15.0)\n",
            "Collecting yfinance\n",
            "  Downloading https://files.pythonhosted.org/packages/a7/ee/315752b9ef281ba83c62aa7ec2e2074f85223da6e7e74efb4d3e11c0f510/yfinance-0.1.59.tar.gz\n",
            "Requirement already satisfied: pandas>=0.24 in /usr/local/lib/python3.7/dist-packages (from yfinance) (1.1.5)\n",
            "Requirement already satisfied: numpy>=1.15 in /usr/local/lib/python3.7/dist-packages (from yfinance) (1.19.5)\n",
            "Requirement already satisfied: requests>=2.20 in /usr/local/lib/python3.7/dist-packages (from yfinance) (2.23.0)\n",
            "Requirement already satisfied: multitasking>=0.0.7 in /usr/local/lib/python3.7/dist-packages (from yfinance) (0.0.9)\n",
            "Collecting lxml>=4.5.1\n",
            "\u001b[?25l  Downloading https://files.pythonhosted.org/packages/cf/4d/6537313bf58fe22b508f08cf3eb86b29b6f9edf68e00454224539421073b/lxml-4.6.3-cp37-cp37m-manylinux1_x86_64.whl (5.5MB)\n",
            "\u001b[K     |████████████████████████████████| 5.5MB 26.7MB/s \n",
            "\u001b[?25hRequirement already satisfied: python-dateutil>=2.7.3 in /usr/local/lib/python3.7/dist-packages (from pandas>=0.24->yfinance) (2.8.1)\n",
            "Requirement already satisfied: pytz>=2017.2 in /usr/local/lib/python3.7/dist-packages (from pandas>=0.24->yfinance) (2018.9)\n",
            "Requirement already satisfied: idna<3,>=2.5 in /usr/local/lib/python3.7/dist-packages (from requests>=2.20->yfinance) (2.10)\n",
            "Requirement already satisfied: certifi>=2017.4.17 in /usr/local/lib/python3.7/dist-packages (from requests>=2.20->yfinance) (2020.12.5)\n",
            "Requirement already satisfied: chardet<4,>=3.0.2 in /usr/local/lib/python3.7/dist-packages (from requests>=2.20->yfinance) (3.0.4)\n",
            "Requirement already satisfied: urllib3!=1.25.0,!=1.25.1,<1.26,>=1.21.1 in /usr/local/lib/python3.7/dist-packages (from requests>=2.20->yfinance) (1.24.3)\n",
            "Requirement already satisfied: six>=1.5 in /usr/local/lib/python3.7/dist-packages (from python-dateutil>=2.7.3->pandas>=0.24->yfinance) (1.15.0)\n",
            "Building wheels for collected packages: yfinance\n",
            "  Building wheel for yfinance (setup.py) ... \u001b[?25l\u001b[?25hdone\n",
            "  Created wheel for yfinance: filename=yfinance-0.1.59-py2.py3-none-any.whl size=23442 sha256=4b3a71facdda946383e5512aadf61f30874b171caa4f60734300fcb90660ffd5\n",
            "  Stored in directory: /root/.cache/pip/wheels/f8/2a/0f/4b5a86e1d52e451757eb6bc17fd899629f0925c777741b6d04\n",
            "Successfully built yfinance\n",
            "Installing collected packages: lxml, yfinance\n",
            "  Found existing installation: lxml 4.2.6\n",
            "    Uninstalling lxml-4.2.6:\n",
            "      Successfully uninstalled lxml-4.2.6\n",
            "Successfully installed lxml-4.6.3 yfinance-0.1.59\n"
          ],
          "name": "stdout"
        }
      ]
    },
    {
      "cell_type": "code",
      "metadata": {
        "id": "HzxEQ5qx04_O",
        "colab": {
          "base_uri": "https://localhost:8080/"
        },
        "outputId": "80b879be-730c-46f4-ac7c-a74f00b044ea"
      },
      "source": [
        "#gettting list of NIFTY50 stocks\n",
        "from autoscraper import AutoScraper\n",
        "\n",
        "url='https://en.wikipedia.org/wiki/NIFTY_50'\n",
        "want_list=['ADANIPORTS.NS']\n",
        "\n",
        "#scrapping data from wikipedia\n",
        "scraper=AutoScraper()\n",
        "n50=scraper.build(url,want_list)\n",
        "\n",
        "n50=n50[0:50]\n",
        "print(n50)"
      ],
      "execution_count": 3,
      "outputs": [
        {
          "output_type": "stream",
          "text": [
            "['ADANIPORTS.NS', 'ASIANPAINT.NS', 'AXISBANK.NS', 'BAJAJ-AUTO.NS', 'BAJFINANCE.NS', 'BAJAJFINSV.NS', 'BHARTIARTL.NS', 'BPCL.NS', 'BRITANNIA.NS', 'CIPLA.NS', 'COALINDIA.NS', 'DIVISLAB.NS', 'DRREDDY.NS', 'EICHERMOT.NS', 'GRASIM.NS', 'HCLTECH.NS', 'HDFC.NS', 'HDFCBANK.NS', 'HDFCLIFE.NS', 'HEROMOTOCO.NS', 'HINDALCO.NS', 'HINDUNILVR.NS', 'ICICIBANK.NS', 'INDUSINDBK.NS', 'INFY.NS', 'IOC.NS', 'ITC.NS', 'JSWSTEEL.NS', 'KOTAKBANK.NS', 'LT.NS', 'M&M.NS', 'MARUTI.NS', 'NESTLEIND.NS', 'NTPC.NS', 'ONGC.NS', 'POWERGRID.NS', 'RELIANCE.NS', 'SBIN.NS', 'SBILIFE.NS', 'SHREECEM.NS', 'SUNPHARMA.NS', 'TATAMOTORS.NS', 'TATASTEEL.NS', 'TCS.NS', 'TATACONSUM.NS', 'TECHM.NS', 'TITAN.NS', 'ULTRACEMCO.NS', 'UPL.NS', 'WIPRO.NS']\n"
          ],
          "name": "stdout"
        }
      ]
    },
    {
      "cell_type": "code",
      "metadata": {
        "id": "85uGz8Lb04_O",
        "colab": {
          "base_uri": "https://localhost:8080/"
        },
        "outputId": "d7e23aa2-1843-4731-bc86-43b20ded3edc"
      },
      "source": [
        "import yfinance as yf\n",
        "from datetime import date\n",
        "from dateutil.relativedelta import relativedelta\n",
        "\n",
        "# we can only get last 60 days intraday day\n",
        "# so, setting dates accordingly\n",
        "end=str(date.today())\n",
        "start=str(date.today()+relativedelta(months=-2,days=+2))\n",
        "\n",
        "# appending symbols into a single string\n",
        "symbols_str=\"\"\n",
        "for s in n50:\n",
        "    symbols_str+=s+\" \"\n",
        "    \n",
        "# downloading last 60 days intraday(interval=2 mins) data of all symbols\n",
        "data=yf.download(tickers=symbols_str,interval='2m',auto_adjust=True,start=start,end=end)"
      ],
      "execution_count": 4,
      "outputs": [
        {
          "output_type": "stream",
          "text": [
            "[*********************100%***********************]  50 of 50 completed\n"
          ],
          "name": "stdout"
        }
      ]
    },
    {
      "cell_type": "code",
      "metadata": {
        "id": "Z-S6AZhR04_P",
        "colab": {
          "base_uri": "https://localhost:8080/"
        },
        "outputId": "458fa79f-9be3-4e50-a4ff-61eaddcca114"
      },
      "source": [
        "#checking nan values\n",
        "close={}\n",
        "for symbol in n50:\n",
        "    close[symbol]=data['Close'][symbol].to_numpy()\n",
        "    print(symbol,np.count_nonzero(np.isnan(close[symbol])))"
      ],
      "execution_count": 229,
      "outputs": [
        {
          "output_type": "stream",
          "text": [
            "ADANIPORTS.NS 564\n",
            "ASIANPAINT.NS 564\n",
            "AXISBANK.NS 0\n",
            "BAJAJ-AUTO.NS 0\n",
            "BAJFINANCE.NS 0\n",
            "BAJAJFINSV.NS 0\n",
            "BHARTIARTL.NS 0\n",
            "BPCL.NS 564\n",
            "BRITANNIA.NS 0\n",
            "CIPLA.NS 0\n",
            "COALINDIA.NS 564\n",
            "DIVISLAB.NS 0\n",
            "DRREDDY.NS 564\n",
            "EICHERMOT.NS 564\n",
            "GRASIM.NS 0\n",
            "HCLTECH.NS 0\n",
            "HDFC.NS 0\n",
            "HDFCBANK.NS 564\n",
            "HDFCLIFE.NS 564\n",
            "HEROMOTOCO.NS 564\n",
            "HINDALCO.NS 564\n",
            "HINDUNILVR.NS 564\n",
            "ICICIBANK.NS 564\n",
            "INDUSINDBK.NS 564\n",
            "INFY.NS 564\n",
            "IOC.NS 564\n",
            "ITC.NS 0\n",
            "JSWSTEEL.NS 0\n",
            "KOTAKBANK.NS 0\n",
            "LT.NS 0\n",
            "M&M.NS 0\n",
            "MARUTI.NS 564\n",
            "NESTLEIND.NS 564\n",
            "NTPC.NS 0\n",
            "ONGC.NS 564\n",
            "POWERGRID.NS 0\n",
            "RELIANCE.NS 0\n",
            "SBIN.NS 0\n",
            "SBILIFE.NS 0\n",
            "SHREECEM.NS 1\n",
            "SUNPHARMA.NS 564\n",
            "TATAMOTORS.NS 564\n",
            "TATASTEEL.NS 564\n",
            "TCS.NS 0\n",
            "TATACONSUM.NS 0\n",
            "TECHM.NS 564\n",
            "TITAN.NS 0\n",
            "ULTRACEMCO.NS 564\n",
            "UPL.NS 0\n",
            "WIPRO.NS 0\n"
          ],
          "name": "stdout"
        }
      ]
    },
    {
      "cell_type": "code",
      "metadata": {
        "id": "S07oOvj104_P",
        "colab": {
          "base_uri": "https://localhost:8080/"
        },
        "outputId": "4665bedb-2bb1-42d7-9edd-163e97770dd0"
      },
      "source": [
        "#removing nan values\n",
        "for symbol in n50:\n",
        "    close[symbol]= [c for c in close[symbol] if not np.isnan(c)] \n",
        "    print(symbol,np.count_nonzero(np.isnan(close[symbol])))"
      ],
      "execution_count": 230,
      "outputs": [
        {
          "output_type": "stream",
          "text": [
            "ADANIPORTS.NS 0\n",
            "ASIANPAINT.NS 0\n",
            "AXISBANK.NS 0\n",
            "BAJAJ-AUTO.NS 0\n",
            "BAJFINANCE.NS 0\n",
            "BAJAJFINSV.NS 0\n",
            "BHARTIARTL.NS 0\n",
            "BPCL.NS 0\n",
            "BRITANNIA.NS 0\n",
            "CIPLA.NS 0\n",
            "COALINDIA.NS 0\n",
            "DIVISLAB.NS 0\n",
            "DRREDDY.NS 0\n",
            "EICHERMOT.NS 0\n",
            "GRASIM.NS 0\n",
            "HCLTECH.NS 0\n",
            "HDFC.NS 0\n",
            "HDFCBANK.NS 0\n",
            "HDFCLIFE.NS 0\n",
            "HEROMOTOCO.NS 0\n",
            "HINDALCO.NS 0\n",
            "HINDUNILVR.NS 0\n",
            "ICICIBANK.NS 0\n",
            "INDUSINDBK.NS 0\n",
            "INFY.NS 0\n",
            "IOC.NS 0\n",
            "ITC.NS 0\n",
            "JSWSTEEL.NS 0\n",
            "KOTAKBANK.NS 0\n",
            "LT.NS 0\n",
            "M&M.NS 0\n",
            "MARUTI.NS 0\n",
            "NESTLEIND.NS 0\n",
            "NTPC.NS 0\n",
            "ONGC.NS 0\n",
            "POWERGRID.NS 0\n",
            "RELIANCE.NS 0\n",
            "SBIN.NS 0\n",
            "SBILIFE.NS 0\n",
            "SHREECEM.NS 0\n",
            "SUNPHARMA.NS 0\n",
            "TATAMOTORS.NS 0\n",
            "TATASTEEL.NS 0\n",
            "TCS.NS 0\n",
            "TATACONSUM.NS 0\n",
            "TECHM.NS 0\n",
            "TITAN.NS 0\n",
            "ULTRACEMCO.NS 0\n",
            "UPL.NS 0\n",
            "WIPRO.NS 0\n"
          ],
          "name": "stdout"
        }
      ]
    },
    {
      "cell_type": "code",
      "metadata": {
        "id": "e7_axRSK04_Q",
        "colab": {
          "base_uri": "https://localhost:8080/",
          "height": 282
        },
        "outputId": "6a376557-41c1-4f45-a57f-6995ef4cac2e"
      },
      "source": [
        "# plot of closing price of CIPLA stock\n",
        "plt.plot(close['CIPLA.NS'])"
      ],
      "execution_count": 52,
      "outputs": [
        {
          "output_type": "execute_result",
          "data": {
            "text/plain": [
              "[<matplotlib.lines.Line2D at 0x7fe183153d90>]"
            ]
          },
          "metadata": {
            "tags": []
          },
          "execution_count": 52
        },
        {
          "output_type": "display_data",
          "data": {
            "image/png": "[encoded data removed]",
            "text/plain": [
              "<Figure size 432x288 with 1 Axes>"
            ]
          },
          "metadata": {
            "tags": [],
            "needs_background": "light"
          }
        }
      ]
    },
    {
      "cell_type": "code",
      "metadata": {
        "id": "JxDfQuYx04_Q"
      },
      "source": [
        "# scaling data in range (0,1)\n",
        "from sklearn.preprocessing import MinMaxScaler\n",
        "\n",
        "scaler={}\n",
        "for symbol,arr in close.items():\n",
        "    # defining min max scaler for the symbol\n",
        "    scaler[symbol]=MinMaxScaler(feature_range=(0,1))\n",
        "    \n",
        "    # scaling data\n",
        "    arr=scaler[symbol].fit_transform(np.array(arr).reshape(-1, 1))\n",
        "    close[symbol]=np.array(arr)\n",
        "    "
      ],
      "execution_count": 53,
      "outputs": []
    },
    {
      "cell_type": "code",
      "metadata": {
        "id": "dTRY-kQJPxCk",
        "outputId": "8ca3578f-1552-48e7-b8bb-44363d38bfbb",
        "colab": {
          "base_uri": "https://localhost:8080/",
          "height": 282
        }
      },
      "source": [
        "# plot of closing price of CIPLA stock\n",
        "plt.plot(close['CIPLA.NS'])"
      ],
      "execution_count": 54,
      "outputs": [
        {
          "output_type": "execute_result",
          "data": {
            "text/plain": [
              "[<matplotlib.lines.Line2D at 0x7fe146fff990>]"
            ]
          },
          "metadata": {
            "tags": []
          },
          "execution_count": 54
        },
        {
          "output_type": "display_data",
          "data": {
            "image/png": "[encoded data removed]",
            "text/plain": [
              "<Figure size 432x288 with 1 Axes>"
            ]
          },
          "metadata": {
            "tags": [],
            "needs_background": "light"
          }
        }
      ]
    },
    {
      "cell_type": "code",
      "metadata": {
        "id": "hr6lDE0j04_R"
      },
      "source": [
        "# generate sequence data to feed to RNN\n",
        "# X:[a0 a1 a2 ...... a59] Y:[a60] seq_size=60\n",
        "\n",
        "def generate_seq_data(data,input_size,output_size):\n",
        "    #all elements except last index is X and last index is Y\n",
        "    seq_data=[]\n",
        "    for i in range(input_size+output_size-1,len(data)):\n",
        "        seq_data.append(data[i-input_size-output_size+1:i+1])\n",
        "        \n",
        "    return np.array(seq_data,dtype=\"float64\").reshape(len(seq_data),input_size+output_size)\n",
        "\n",
        "seq_data={}\n",
        "input_size=100\n",
        "output_size=10\n",
        "for symbol in n50:\n",
        "    seq_data[symbol]=generate_seq_data(close[symbol],input_size,output_size)\n"
      ],
      "execution_count": 55,
      "outputs": []
    },
    {
      "cell_type": "code",
      "metadata": {
        "id": "VMrpwtHTP59f",
        "outputId": "c1fa5fe2-fc96-40a5-972f-373b87aee242",
        "colab": {
          "base_uri": "https://localhost:8080/",
          "height": 265
        }
      },
      "source": [
        "# plot of closing price of CIPLA stock\n",
        "# orange is X, blue is Y\n",
        "plt.plot(seq_data['CIPLA.NS'][0])\n",
        "plt.plot(seq_data['CIPLA.NS'][0,:-output_size])\n",
        "plt.show()"
      ],
      "execution_count": 56,
      "outputs": [
        {
          "output_type": "display_data",
          "data": {
            "image/png": "[encoded data removed]",
            "text/plain": [
              "<Figure size 432x288 with 1 Axes>"
            ]
          },
          "metadata": {
            "tags": [],
            "needs_background": "light"
          }
        }
      ]
    },
    {
      "cell_type": "code",
      "metadata": {
        "id": "LtoBxbYn04_R",
        "colab": {
          "base_uri": "https://localhost:8080/"
        },
        "outputId": "829ae19a-2d9b-404a-a02f-9c0485382ee2"
      },
      "source": [
        "seq_data['CIPLA.NS'].shape"
      ],
      "execution_count": 57,
      "outputs": [
        {
          "output_type": "execute_result",
          "data": {
            "text/plain": [
              "(6283, 110)"
            ]
          },
          "metadata": {
            "tags": []
          },
          "execution_count": 57
        }
      ]
    },
    {
      "cell_type": "code",
      "metadata": {
        "id": "Oyl1vouL04_R"
      },
      "source": [
        "X_train,Y_train,X_test,Y_test=[],[],[],[]\n",
        "\n",
        "\n",
        "for symbol in n50:\n",
        "    sd=seq_data[symbol]\n",
        "    \n",
        "    # splitting in 80:20 ratio\n",
        "    split_index=int(0.8*len(sd))\n",
        "    train=sd[0:split_index]\n",
        "    test=sd[split_index:]\n",
        "    \n",
        "    X_train.extend(train[:,:-output_size]) # all columns except last\n",
        "    Y_train.extend(train[:,-output_size:]) # last column\n",
        "    \n",
        "    X_test.extend(test[:,:-output_size]) # all columns except last\n",
        "    Y_test.extend(test[:,-output_size:]) # last column\n",
        "\n",
        "    \n",
        "X_train,Y_train,X_test,Y_test=np.array(X_train),np.array(Y_train),np.array(X_test),np.array(Y_test)\n"
      ],
      "execution_count": 58,
      "outputs": []
    },
    {
      "cell_type": "code",
      "metadata": {
        "id": "BavLBvg4QnA1",
        "outputId": "8d6ff923-bee7-476a-f3df-5560d5df51e4",
        "colab": {
          "base_uri": "https://localhost:8080/",
          "height": 265
        }
      },
      "source": [
        "# orange is X, blue is Y\n",
        "plt.plot(np.concatenate((X_train[0],Y_train[0]),axis=0))\n",
        "plt.plot(X_train[0])\n",
        "plt.show()"
      ],
      "execution_count": 59,
      "outputs": [
        {
          "output_type": "display_data",
          "data": {
            "image/png": "[encoded data removed]",
            "text/plain": [
              "<Figure size 432x288 with 1 Axes>"
            ]
          },
          "metadata": {
            "tags": [],
            "needs_background": "light"
          }
        }
      ]
    },
    {
      "cell_type": "code",
      "metadata": {
        "id": "1AuNQLAt04_S",
        "colab": {
          "base_uri": "https://localhost:8080/"
        },
        "outputId": "47484d5c-dac0-452d-b9ae-aaaa03a96f67"
      },
      "source": [
        "print(X_train.shape)\n",
        "print(Y_train.shape)"
      ],
      "execution_count": 60,
      "outputs": [
        {
          "output_type": "stream",
          "text": [
            "(240926, 100)\n",
            "(240926, 10)\n"
          ],
          "name": "stdout"
        }
      ]
    },
    {
      "cell_type": "code",
      "metadata": {
        "id": "Grao2Wqb04_S",
        "colab": {
          "base_uri": "https://localhost:8080/"
        },
        "outputId": "649a409b-8c4e-46b3-cb96-4d6008506017"
      },
      "source": [
        "print(X_test.shape)\n",
        "print(Y_test.shape)"
      ],
      "execution_count": 61,
      "outputs": [
        {
          "output_type": "stream",
          "text": [
            "(60251, 100)\n",
            "(60251, 10)\n"
          ],
          "name": "stdout"
        }
      ]
    },
    {
      "cell_type": "code",
      "metadata": {
        "id": "KSVKtTBZKh6x"
      },
      "source": [
        "# from random import shuffle\n",
        "\n",
        "# #shuffing train data\n",
        "# ind_list=list(range(len(X_train)))\n",
        "# shuffle(ind_list)\n",
        "# X_train=X_train[ind_list,:]\n",
        "# Y_train=Y_train[ind_list,:]\n",
        "\n",
        "# #shuffing test data\n",
        "# ind_list=list(range(len(X_test)))\n",
        "# shuffle(ind_list)\n",
        "# X_test=X_test[ind_list,:]\n",
        "# Y_test=Y_test[ind_list,:]"
      ],
      "execution_count": 62,
      "outputs": []
    },
    {
      "cell_type": "code",
      "metadata": {
        "id": "KscHd1_H04_S"
      },
      "source": [
        "# reshape input to be [samples, time steps, features] which is required for LSTM\n",
        "X_train=X_train.reshape(X_train.shape[0],X_train.shape[1] ,1)\n",
        "X_test=X_test.reshape(X_test.shape[0],X_test.shape[1],1)"
      ],
      "execution_count": 63,
      "outputs": []
    },
    {
      "cell_type": "code",
      "metadata": {
        "id": "jiXRVnlL04_T"
      },
      "source": [
        "from tensorflow.keras.models import Sequential\n",
        "from tensorflow.keras.layers import Dense, LSTM, Dropout, Flatten, Bidirectional\n",
        "from keras.layers.convolutional import Conv2D,MaxPooling2D\n",
        "import tensorflow as tf"
      ],
      "execution_count": 157,
      "outputs": []
    },
    {
      "cell_type": "code",
      "metadata": {
        "id": "FFNmXeaL04_T"
      },
      "source": [
        "# Stacked LSTM\n",
        "\n",
        "batch_size=128\n",
        "epochs=5\n",
        "\n",
        "model=Sequential()\n",
        "model.add(Bidirectional(LSTM(50,return_sequences=True,dropout=0.2),input_shape=X_train[0].shape))\n",
        "model.add(Bidirectional(LSTM(units=50)))\n",
        "# model.add(Dropout(0.1))\n",
        "# model.add(LSTM(100))\n",
        "# model.add(Dropout(0.1))\n",
        "model.add(Dense(output_size))\n",
        "model.compile(loss='mean_squared_error',optimizer='adam')"
      ],
      "execution_count": 220,
      "outputs": []
    },
    {
      "cell_type": "code",
      "metadata": {
        "id": "NWibAC9M7you"
      },
      "source": [
        "#CNN\n",
        "\n",
        "# width=X_train.shape[1]\n",
        "# height=X_train.shape[2]\n",
        "# batch_size=32\n",
        "# epochs=50\n",
        "# model=Sequential()\n",
        "# #Conv Layer-1\n",
        "# model.add(Conv2D(6,kernel_size=(5,1),input_shape=(width,height,1),data_format='channels_last',padding='same',activation='relu'))\n",
        "\n",
        "# #Max Pool Layer-1\n",
        "# model.add(MaxPooling2D(pool_size=(2,1),strides=(2,1)))\n",
        "\n",
        "# #Conv Layer-2\n",
        "# model.add(Conv2D(16,kernel_size=(5,1),activation='relu'))\n",
        "\n",
        "# #Max Pool Layer-2\n",
        "# model.add(MaxPooling2D(pool_size=(2,1),strides=(2,1)))\n",
        "\n",
        "# #Conv Layer-3\n",
        "# model.add(Conv2D(120,kernel_size=(5,1),activation='relu'))\n",
        "# model.add(Flatten())\n",
        "\n",
        "# #Fully Connected Layer-1\n",
        "# model.add(Dense(10,activation='relu'))\n",
        "\n",
        "\n",
        "# model.compile(optimizer='adam',loss='mean_squared_error')"
      ],
      "execution_count": 221,
      "outputs": []
    },
    {
      "cell_type": "code",
      "metadata": {
        "id": "rBPLkQ4r04_T",
        "colab": {
          "base_uri": "https://localhost:8080/"
        },
        "outputId": "530168a6-d8e1-488f-bb8a-83c6b652cbc7"
      },
      "source": [
        "model.summary()"
      ],
      "execution_count": 222,
      "outputs": [
        {
          "output_type": "stream",
          "text": [
            "Model: \"sequential_28\"\n",
            "_________________________________________________________________\n",
            "Layer (type)                 Output Shape              Param #   \n",
            "=================================================================\n",
            "bidirectional_24 (Bidirectio (None, 100, 100)          20800     \n",
            "_________________________________________________________________\n",
            "bidirectional_25 (Bidirectio (None, 100)               60400     \n",
            "_________________________________________________________________\n",
            "dense_13 (Dense)             (None, 10)                1010      \n",
            "=================================================================\n",
            "Total params: 82,210\n",
            "Trainable params: 82,210\n",
            "Non-trainable params: 0\n",
            "_________________________________________________________________\n"
          ],
          "name": "stdout"
        }
      ]
    },
    {
      "cell_type": "code",
      "metadata": {
        "id": "QLUniSga04_U",
        "colab": {
          "base_uri": "https://localhost:8080/"
        },
        "outputId": "f02d7026-fc42-4a44-b9ff-762bd30bed4a"
      },
      "source": [
        "history=model.fit(X_train,Y_train,validation_data=(X_test,Y_test),epochs=epochs,batch_size=batch_size,verbose=1)"
      ],
      "execution_count": 223,
      "outputs": [
        {
          "output_type": "stream",
          "text": [
            "Epoch 1/5\n",
            "1883/1883 [==============================] - 45s 21ms/step - loss: 0.0067 - val_loss: 0.0103\n",
            "Epoch 2/5\n",
            "1883/1883 [==============================] - 39s 20ms/step - loss: 7.7049e-04 - val_loss: 0.0111\n",
            "Epoch 3/5\n",
            "1883/1883 [==============================] - 39s 20ms/step - loss: 6.6269e-04 - val_loss: 0.0094\n",
            "Epoch 4/5\n",
            "1883/1883 [==============================] - 38s 20ms/step - loss: 6.1587e-04 - val_loss: 0.0112\n",
            "Epoch 5/5\n",
            "1883/1883 [==============================] - 38s 20ms/step - loss: 6.0226e-04 - val_loss: 0.0096\n"
          ],
          "name": "stdout"
        }
      ]
    },
    {
      "cell_type": "code",
      "metadata": {
        "id": "xst_TMuzWuYj",
        "outputId": "76dceb4e-2a7b-446d-f775-883028aff099",
        "colab": {
          "base_uri": "https://localhost:8080/",
          "height": 279
        }
      },
      "source": [
        "#Loss curve\n",
        "import matplotlib.pyplot as plt\n",
        "fig,ax=plt.subplots(1,1)\n",
        "ax.set_xlabel('epoch')\n",
        "ax.set_ylabel('loss')\n",
        "\n",
        "x=list(range(1,epochs+1))\n",
        "\n",
        "v=history.history['val_loss']\n",
        "t=history.history['loss']\n",
        "\n",
        "def plt_dynamic(x,y,y_1,ax,colors=['b']):\n",
        "    ax.plot(x,y,'b',label='Train loss')\n",
        "    ax.plot(x,y_1,'r',label='Val loss')\n",
        "    plt.legend()\n",
        "    fig.canvas.draw()\n",
        "plt_dynamic(x,t,v,ax)"
      ],
      "execution_count": 224,
      "outputs": [
        {
          "output_type": "display_data",
          "data": {
            "image/png": "[encoded data removed]",
            "text/plain": [
              "<Figure size 432x288 with 1 Axes>"
            ]
          },
          "metadata": {
            "tags": [],
            "needs_background": "light"
          }
        }
      ]
    },
    {
      "cell_type": "code",
      "metadata": {
        "id": "y21QBmon8rXu",
        "colab": {
          "base_uri": "https://localhost:8080/"
        },
        "outputId": "593d7c28-e348-4379-adc9-66f611cd0fbe"
      },
      "source": [
        "pred=model.predict(X_test)\n",
        "\n",
        "import math\n",
        "from sklearn.metrics import mean_squared_error\n",
        "math.sqrt(mean_squared_error(Y_test,pred))"
      ],
      "execution_count": 225,
      "outputs": [
        {
          "output_type": "execute_result",
          "data": {
            "text/plain": [
              "0.09799767784248646"
            ]
          },
          "metadata": {
            "tags": []
          },
          "execution_count": 225
        }
      ]
    },
    {
      "cell_type": "code",
      "metadata": {
        "id": "e2u8WYKvX-wJ",
        "outputId": "7c7285c0-3f2a-456b-addf-aedc938d2330",
        "colab": {
          "base_uri": "https://localhost:8080/",
          "height": 265
        }
      },
      "source": [
        "#comparing actual and prediction for a single test instance\n",
        "plt.plot(Y_test[44])\n",
        "plt.plot(pred[44])\n",
        "plt.show()"
      ],
      "execution_count": 226,
      "outputs": [
        {
          "output_type": "display_data",
          "data": {
            "image/png": "[encoded data removed]",
            "text/plain": [
              "<Figure size 432x288 with 1 Axes>"
            ]
          },
          "metadata": {
            "tags": [],
            "needs_background": "light"
          }
        }
      ]
    },
    {
      "cell_type": "code",
      "metadata": {
        "id": "rEVV-iAe9k1L",
        "colab": {
          "base_uri": "https://localhost:8080/"
        },
        "outputId": "9f10a6b8-4252-4af3-d553-344e3dd7126b"
      },
      "source": [
        "symbol='ITC.NS'\n",
        "stock=close[symbol]\n",
        "\n",
        "iters=5\n",
        "\n",
        "new_cnt=iters*output_size\n",
        "old=stock[:-new_cnt].flatten()\n",
        "new=stock[-new_cnt:]\n",
        "new_pred=np.array([])\n",
        "\n",
        "for i in range(0,iters):\n",
        "    seq=old[-input_size:]\n",
        "    seq=seq.reshape(1,input_size,1)\n",
        "    pred=np.array(model.predict(seq)[0])\n",
        "    old=np.concatenate((old,pred),axis=0)\n",
        "    new_pred=np.concatenate((new_pred,pred),axis=0)\n",
        "    # plt.plot(seq.flatten())\n",
        "    # plt.show()\n",
        "\n",
        "print('prediction done!')"
      ],
      "execution_count": 227,
      "outputs": [
        {
          "output_type": "stream",
          "text": [
            "prediction done!\n"
          ],
          "name": "stdout"
        }
      ]
    },
    {
      "cell_type": "code",
      "metadata": {
        "id": "-YrWNew23Yxf",
        "colab": {
          "base_uri": "https://localhost:8080/",
          "height": 513
        },
        "outputId": "a42f0632-c370-4924-9cf8-196823158d1a"
      },
      "source": [
        "old[:-new_cnt]=np.nan\n",
        "points=new_cnt+input_size\n",
        "\n",
        "plt.plot(stock[-points:])\n",
        "plt.plot(old[-points:])\n",
        "plt.show()\n",
        "\n",
        "plt.plot(new)\n",
        "plt.plot(new_pred)\n",
        "plt.show()"
      ],
      "execution_count": 228,
      "outputs": [
        {
          "output_type": "display_data",
          "data": {
            "image/png": "[encoded data removed]",
            "text/plain": [
              "<Figure size 432x288 with 1 Axes>"
            ]
          },
          "metadata": {
            "tags": [],
            "needs_background": "light"
          }
        },
        {
          "output_type": "display_data",
          "data": {
            "image/png": "[encoded data removed]",
            "text/plain": [
              "<Figure size 432x288 with 1 Axes>"
            ]
          },
          "metadata": {
            "tags": [],
            "needs_background": "light"
          }
        }
      ]
    },
    {
      "cell_type": "code",
      "metadata": {
        "id": "Cuo3josCF9oj"
      },
      "source": [
        "model.save('stox.h5')"
      ],
      "execution_count": null,
      "outputs": []
    },
    {
      "cell_type": "code",
      "metadata": {
        "id": "RY3OJm2mJE33"
      },
      "source": [
        ""
      ],
      "execution_count": null,
      "outputs": []
    }
  ]
}
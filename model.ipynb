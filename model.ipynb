{
  "nbformat": 4,
  "nbformat_minor": 0,
  "metadata": {
    "kernelspec": {
      "display_name": "Python 3",
      "language": "python",
      "name": "python3"
    },
    "language_info": {
      "codemirror_mode": {
        "name": "ipython",
        "version": 3
      },
      "file_extension": ".py",
      "mimetype": "text/x-python",
      "name": "python",
      "nbconvert_exporter": "python",
      "pygments_lexer": "ipython3",
      "version": "3.8.5"
    },
    "colab": {
      "name": "model.ipynb",
      "provenance": []
    },
    "accelerator": "GPU"
  },
  "cells": [
    {
      "cell_type": "code",
      "metadata": {
        "id": "7PV0iIRk04_G"
      },
      "source": [
        "import requests\n",
        "import numpy as np\n",
        "import pandas as pd\n",
        "import matplotlib.pyplot as plt"
      ],
      "execution_count": 6,
      "outputs": []
    },
    {
      "cell_type": "code",
      "metadata": {
        "id": "6USnolsa04_M"
      },
      "source": [
        "# zerodha----paid data\n",
        "# alphavantage----no NSE/BSE data\n",
        "# quandl----no intraday data\n",
        "# yfinance----working\n",
        "\n",
        "# https://algotrading101.com/learn/google-finance-api-guide/\n",
        "# https://github.com/ranaroussi/yfinance"
      ],
      "execution_count": null,
      "outputs": []
    },
    {
      "cell_type": "code",
      "metadata": {
        "id": "hdWZJCIj04_N",
        "colab": {
          "base_uri": "https://localhost:8080/"
        },
        "outputId": "e13680ef-69ae-4fe5-8007-f0382e2b5e6a"
      },
      "source": [
        "!pip install autoscraper\n",
        "!pip install python-dateutil\n",
        "!pip install yfinance"
      ],
      "execution_count": 7,
      "outputs": [
        {
          "output_type": "stream",
          "text": [
            "Requirement already satisfied: autoscraper in /usr/local/lib/python3.7/dist-packages (1.1.12)\n",
            "Requirement already satisfied: lxml in /usr/local/lib/python3.7/dist-packages (from autoscraper) (4.6.3)\n",
            "Requirement already satisfied: bs4 in /usr/local/lib/python3.7/dist-packages (from autoscraper) (0.0.1)\n",
            "Requirement already satisfied: requests in /usr/local/lib/python3.7/dist-packages (from autoscraper) (2.23.0)\n",
            "Requirement already satisfied: beautifulsoup4 in /usr/local/lib/python3.7/dist-packages (from bs4->autoscraper) (4.6.3)\n",
            "Requirement already satisfied: urllib3!=1.25.0,!=1.25.1,<1.26,>=1.21.1 in /usr/local/lib/python3.7/dist-packages (from requests->autoscraper) (1.24.3)\n",
            "Requirement already satisfied: chardet<4,>=3.0.2 in /usr/local/lib/python3.7/dist-packages (from requests->autoscraper) (3.0.4)\n",
            "Requirement already satisfied: idna<3,>=2.5 in /usr/local/lib/python3.7/dist-packages (from requests->autoscraper) (2.10)\n",
            "Requirement already satisfied: certifi>=2017.4.17 in /usr/local/lib/python3.7/dist-packages (from requests->autoscraper) (2020.12.5)\n",
            "Requirement already satisfied: python-dateutil in /usr/local/lib/python3.7/dist-packages (2.8.1)\n",
            "Requirement already satisfied: six>=1.5 in /usr/local/lib/python3.7/dist-packages (from python-dateutil) (1.15.0)\n",
            "Requirement already satisfied: yfinance in /usr/local/lib/python3.7/dist-packages (0.1.59)\n",
            "Requirement already satisfied: multitasking>=0.0.7 in /usr/local/lib/python3.7/dist-packages (from yfinance) (0.0.9)\n",
            "Requirement already satisfied: pandas>=0.24 in /usr/local/lib/python3.7/dist-packages (from yfinance) (1.1.5)\n",
            "Requirement already satisfied: lxml>=4.5.1 in /usr/local/lib/python3.7/dist-packages (from yfinance) (4.6.3)\n",
            "Requirement already satisfied: requests>=2.20 in /usr/local/lib/python3.7/dist-packages (from yfinance) (2.23.0)\n",
            "Requirement already satisfied: numpy>=1.15 in /usr/local/lib/python3.7/dist-packages (from yfinance) (1.19.5)\n",
            "Requirement already satisfied: pytz>=2017.2 in /usr/local/lib/python3.7/dist-packages (from pandas>=0.24->yfinance) (2018.9)\n",
            "Requirement already satisfied: python-dateutil>=2.7.3 in /usr/local/lib/python3.7/dist-packages (from pandas>=0.24->yfinance) (2.8.1)\n",
            "Requirement already satisfied: certifi>=2017.4.17 in /usr/local/lib/python3.7/dist-packages (from requests>=2.20->yfinance) (2020.12.5)\n",
            "Requirement already satisfied: idna<3,>=2.5 in /usr/local/lib/python3.7/dist-packages (from requests>=2.20->yfinance) (2.10)\n",
            "Requirement already satisfied: chardet<4,>=3.0.2 in /usr/local/lib/python3.7/dist-packages (from requests>=2.20->yfinance) (3.0.4)\n",
            "Requirement already satisfied: urllib3!=1.25.0,!=1.25.1,<1.26,>=1.21.1 in /usr/local/lib/python3.7/dist-packages (from requests>=2.20->yfinance) (1.24.3)\n",
            "Requirement already satisfied: six>=1.5 in /usr/local/lib/python3.7/dist-packages (from python-dateutil>=2.7.3->pandas>=0.24->yfinance) (1.15.0)\n"
          ],
          "name": "stdout"
        }
      ]
    },
    {
      "cell_type": "code",
      "metadata": {
        "id": "HzxEQ5qx04_O",
        "colab": {
          "base_uri": "https://localhost:8080/"
        },
        "outputId": "dca66806-8e6f-49cc-cc07-52e914e1488d"
      },
      "source": [
        "#gettting list of NIFTY50 stocks\n",
        "from autoscraper import AutoScraper\n",
        "\n",
        "url='https://en.wikipedia.org/wiki/NIFTY_50'\n",
        "want_list=['ADANIPORTS.NS']\n",
        "\n",
        "#scrapping data from wikipedia\n",
        "scraper=AutoScraper()\n",
        "n50=scraper.build(url,want_list)\n",
        "\n",
        "n50=n50[0:50]\n",
        "print(n50)"
      ],
      "execution_count": 8,
      "outputs": [
        {
          "output_type": "stream",
          "text": [
            "['ADANIPORTS.NS', 'ASIANPAINT.NS', 'AXISBANK.NS', 'BAJAJ-AUTO.NS', 'BAJFINANCE.NS', 'BAJAJFINSV.NS', 'BHARTIARTL.NS', 'BPCL.NS', 'BRITANNIA.NS', 'CIPLA.NS', 'COALINDIA.NS', 'DIVISLAB.NS', 'DRREDDY.NS', 'EICHERMOT.NS', 'GRASIM.NS', 'HCLTECH.NS', 'HDFC.NS', 'HDFCBANK.NS', 'HDFCLIFE.NS', 'HEROMOTOCO.NS', 'HINDALCO.NS', 'HINDUNILVR.NS', 'ICICIBANK.NS', 'INDUSINDBK.NS', 'INFY.NS', 'IOC.NS', 'ITC.NS', 'JSWSTEEL.NS', 'KOTAKBANK.NS', 'LT.NS', 'M&M.NS', 'MARUTI.NS', 'NESTLEIND.NS', 'NTPC.NS', 'ONGC.NS', 'POWERGRID.NS', 'RELIANCE.NS', 'SBIN.NS', 'SBILIFE.NS', 'SHREECEM.NS', 'SUNPHARMA.NS', 'TATAMOTORS.NS', 'TATASTEEL.NS', 'TCS.NS', 'TATACONSUM.NS', 'TECHM.NS', 'TITAN.NS', 'ULTRACEMCO.NS', 'UPL.NS', 'WIPRO.NS']\n"
          ],
          "name": "stdout"
        }
      ]
    },
    {
      "cell_type": "code",
      "metadata": {
        "id": "85uGz8Lb04_O",
        "colab": {
          "base_uri": "https://localhost:8080/"
        },
        "outputId": "46a6bd75-7530-4ace-c927-0ff038957190"
      },
      "source": [
        "import yfinance as yf\n",
        "from datetime import date\n",
        "from dateutil.relativedelta import relativedelta\n",
        "\n",
        "# we can only get last 60 days intraday day\n",
        "# so, setting dates accordingly\n",
        "end=str(date.today())\n",
        "start=str(date.today()+relativedelta(months=-2,days=+2))\n",
        "\n",
        "# appending symbols into a single string\n",
        "symbols_str=\"\"\n",
        "for s in n50:\n",
        "    symbols_str+=s+\" \"\n",
        "    \n",
        "# downloading last 60 days intraday(interval=2 mins) data of all symbols\n",
        "data=yf.download(tickers=symbols_str,interval='2m',auto_adjust=True,start=start,end=end)"
      ],
      "execution_count": 9,
      "outputs": [
        {
          "output_type": "stream",
          "text": [
            "[*********************100%***********************]  50 of 50 completed\n"
          ],
          "name": "stdout"
        }
      ]
    },
    {
      "cell_type": "code",
      "metadata": {
        "id": "Z-S6AZhR04_P",
        "colab": {
          "base_uri": "https://localhost:8080/"
        },
        "outputId": "2c7787b9-af23-4587-f831-7257bf0fe35d"
      },
      "source": [
        "#checking nan values\n",
        "close={}\n",
        "for symbol in n50:\n",
        "    close[symbol]=data['Close'][symbol].to_numpy()\n",
        "    print(symbol,np.count_nonzero(np.isnan(close[symbol])))"
      ],
      "execution_count": 21,
      "outputs": [
        {
          "output_type": "stream",
          "text": [
            "ADANIPORTS.NS 564\n",
            "ASIANPAINT.NS 564\n",
            "AXISBANK.NS 0\n",
            "BAJAJ-AUTO.NS 0\n",
            "BAJFINANCE.NS 0\n",
            "BAJAJFINSV.NS 0\n",
            "BHARTIARTL.NS 0\n",
            "BPCL.NS 564\n",
            "BRITANNIA.NS 0\n",
            "CIPLA.NS 0\n",
            "COALINDIA.NS 564\n",
            "DIVISLAB.NS 0\n",
            "DRREDDY.NS 564\n",
            "EICHERMOT.NS 564\n",
            "GRASIM.NS 0\n",
            "HCLTECH.NS 0\n",
            "HDFC.NS 0\n",
            "HDFCBANK.NS 564\n",
            "HDFCLIFE.NS 564\n",
            "HEROMOTOCO.NS 564\n",
            "HINDALCO.NS 564\n",
            "HINDUNILVR.NS 564\n",
            "ICICIBANK.NS 564\n",
            "INDUSINDBK.NS 564\n",
            "INFY.NS 564\n",
            "IOC.NS 564\n",
            "ITC.NS 0\n",
            "JSWSTEEL.NS 0\n",
            "KOTAKBANK.NS 0\n",
            "LT.NS 0\n",
            "M&M.NS 0\n",
            "MARUTI.NS 564\n",
            "NESTLEIND.NS 564\n",
            "NTPC.NS 0\n",
            "ONGC.NS 564\n",
            "POWERGRID.NS 0\n",
            "RELIANCE.NS 0\n",
            "SBIN.NS 0\n",
            "SBILIFE.NS 0\n",
            "SHREECEM.NS 1\n",
            "SUNPHARMA.NS 564\n",
            "TATAMOTORS.NS 564\n",
            "TATASTEEL.NS 564\n",
            "TCS.NS 0\n",
            "TATACONSUM.NS 0\n",
            "TECHM.NS 564\n",
            "TITAN.NS 0\n",
            "ULTRACEMCO.NS 564\n",
            "UPL.NS 0\n",
            "WIPRO.NS 0\n"
          ],
          "name": "stdout"
        }
      ]
    },
    {
      "cell_type": "code",
      "metadata": {
        "id": "S07oOvj104_P",
        "colab": {
          "base_uri": "https://localhost:8080/"
        },
        "outputId": "3247b59b-7241-48bf-cb90-aa76af220486"
      },
      "source": [
        "#removing nan values\n",
        "for symbol in n50:\n",
        "    close[symbol]= [c for c in close[symbol] if not np.isnan(c)] \n",
        "    print(symbol,np.count_nonzero(np.isnan(close[symbol])))"
      ],
      "execution_count": 22,
      "outputs": [
        {
          "output_type": "stream",
          "text": [
            "ADANIPORTS.NS 0\n",
            "ASIANPAINT.NS 0\n",
            "AXISBANK.NS 0\n",
            "BAJAJ-AUTO.NS 0\n",
            "BAJFINANCE.NS 0\n",
            "BAJAJFINSV.NS 0\n",
            "BHARTIARTL.NS 0\n",
            "BPCL.NS 0\n",
            "BRITANNIA.NS 0\n",
            "CIPLA.NS 0\n",
            "COALINDIA.NS 0\n",
            "DIVISLAB.NS 0\n",
            "DRREDDY.NS 0\n",
            "EICHERMOT.NS 0\n",
            "GRASIM.NS 0\n",
            "HCLTECH.NS 0\n",
            "HDFC.NS 0\n",
            "HDFCBANK.NS 0\n",
            "HDFCLIFE.NS 0\n",
            "HEROMOTOCO.NS 0\n",
            "HINDALCO.NS 0\n",
            "HINDUNILVR.NS 0\n",
            "ICICIBANK.NS 0\n",
            "INDUSINDBK.NS 0\n",
            "INFY.NS 0\n",
            "IOC.NS 0\n",
            "ITC.NS 0\n",
            "JSWSTEEL.NS 0\n",
            "KOTAKBANK.NS 0\n",
            "LT.NS 0\n",
            "M&M.NS 0\n",
            "MARUTI.NS 0\n",
            "NESTLEIND.NS 0\n",
            "NTPC.NS 0\n",
            "ONGC.NS 0\n",
            "POWERGRID.NS 0\n",
            "RELIANCE.NS 0\n",
            "SBIN.NS 0\n",
            "SBILIFE.NS 0\n",
            "SHREECEM.NS 0\n",
            "SUNPHARMA.NS 0\n",
            "TATAMOTORS.NS 0\n",
            "TATASTEEL.NS 0\n",
            "TCS.NS 0\n",
            "TATACONSUM.NS 0\n",
            "TECHM.NS 0\n",
            "TITAN.NS 0\n",
            "ULTRACEMCO.NS 0\n",
            "UPL.NS 0\n",
            "WIPRO.NS 0\n"
          ],
          "name": "stdout"
        }
      ]
    },
    {
      "cell_type": "code",
      "metadata": {
        "id": "e7_axRSK04_Q",
        "colab": {
          "base_uri": "https://localhost:8080/",
          "height": 282
        },
        "outputId": "3d263827-89ea-4222-d20d-b55d6cb1dde9"
      },
      "source": [
        "# plot of closing price of ITC stock\n",
        "plt.plot(close['CIPLA.NS'])"
      ],
      "execution_count": 23,
      "outputs": [
        {
          "output_type": "execute_result",
          "data": {
            "text/plain": [
              "[<matplotlib.lines.Line2D at 0x7f9cfc830890>]"
            ]
          },
          "metadata": {
            "tags": []
          },
          "execution_count": 23
        },
        {
          "output_type": "display_data",
          "data": {
            "image/png": "[encoded data removed]",
            "text/plain": [
              "<Figure size 432x288 with 1 Axes>"
            ]
          },
          "metadata": {
            "tags": [],
            "needs_background": "light"
          }
        }
      ]
    },
    {
      "cell_type": "code",
      "metadata": {
        "id": "JxDfQuYx04_Q"
      },
      "source": [
        "# scaling data in range (0,1)\n",
        "from sklearn.preprocessing import MinMaxScaler\n",
        "\n",
        "scaler={}\n",
        "for symbol,arr in close.items():\n",
        "    # defining min max scaler for the symbol\n",
        "    scaler[symbol]=MinMaxScaler(feature_range=(0,1))\n",
        "    \n",
        "    # scaling data\n",
        "    arr=scaler[symbol].fit_transform(np.array(arr).reshape(-1, 1))\n",
        "    close[symbol]=np.array(arr)\n",
        "    "
      ],
      "execution_count": 24,
      "outputs": []
    },
    {
      "cell_type": "code",
      "metadata": {
        "id": "hr6lDE0j04_R"
      },
      "source": [
        "# generate sequence data to feed to RNN\n",
        "# X:[a0 a1 a2 ...... a59] Y:[a60] seq_size=60\n",
        "\n",
        "def generate_seq_data(data,input_size,output_size):\n",
        "    #all elements except last index is X and last index is Y\n",
        "    seq_data=[]\n",
        "    for i in range(input_size+output_size-1,len(data)):\n",
        "        seq_data.append(data[i-input_size-output_size+1:i+1])\n",
        "        \n",
        "    return np.array(seq_data,dtype=\"object\").reshape(len(seq_data),input_size+output_size)\n",
        "\n",
        "seq_data={}\n",
        "input_size=100\n",
        "output_size=10\n",
        "for symbol in n50:\n",
        "    seq_data[symbol]=generate_seq_data(close[symbol],input_size,output_size)\n"
      ],
      "execution_count": 25,
      "outputs": []
    },
    {
      "cell_type": "code",
      "metadata": {
        "id": "LtoBxbYn04_R",
        "colab": {
          "base_uri": "https://localhost:8080/"
        },
        "outputId": "e991cb36-e11a-4b91-f518-e5669681141e"
      },
      "source": [
        "seq_data['ITC.NS'].shape"
      ],
      "execution_count": 26,
      "outputs": [
        {
          "output_type": "execute_result",
          "data": {
            "text/plain": [
              "(6283, 110)"
            ]
          },
          "metadata": {
            "tags": []
          },
          "execution_count": 26
        }
      ]
    },
    {
      "cell_type": "code",
      "metadata": {
        "id": "Oyl1vouL04_R"
      },
      "source": [
        "X_train,Y_train,X_test,Y_test=[],[],[],[]\n",
        "\n",
        "\n",
        "for symbol in n50:\n",
        "    sd=seq_data[symbol]\n",
        "    \n",
        "    # splitting in 80:20 ratio\n",
        "    split_index=int(0.8*len(sd))\n",
        "    train=sd[0:split_index]\n",
        "    test=sd[split_index:]\n",
        "    \n",
        "    X_train.extend(train[:,:-output_size]) # all columns except last\n",
        "    Y_train.extend(train[:,-output_size:]) # last column\n",
        "    \n",
        "    X_test.extend(test[:,:-output_size]) # all columns except last\n",
        "    Y_test.extend(test[:,-output_size:]) # last column\n",
        "\n",
        "    \n",
        "X_train,Y_train,X_test,Y_test=np.array(X_train),np.array(Y_train),np.array(X_test),np.array(Y_test)\n"
      ],
      "execution_count": 27,
      "outputs": []
    },
    {
      "cell_type": "code",
      "metadata": {
        "id": "1AuNQLAt04_S",
        "colab": {
          "base_uri": "https://localhost:8080/"
        },
        "outputId": "e10c6578-b3e6-45f9-a7ec-c5b7574e31d2"
      },
      "source": [
        "print(X_train.shape)\n",
        "print(Y_train.shape)"
      ],
      "execution_count": 28,
      "outputs": [
        {
          "output_type": "stream",
          "text": [
            "(240926, 100)\n",
            "(240926, 10)\n"
          ],
          "name": "stdout"
        }
      ]
    },
    {
      "cell_type": "code",
      "metadata": {
        "id": "Grao2Wqb04_S",
        "colab": {
          "base_uri": "https://localhost:8080/"
        },
        "outputId": "c185cc73-dc6f-4bd0-91c2-67e2b65b98f6"
      },
      "source": [
        "print(X_test.shape)\n",
        "print(Y_test.shape)"
      ],
      "execution_count": 29,
      "outputs": [
        {
          "output_type": "stream",
          "text": [
            "(60251, 100)\n",
            "(60251, 10)\n"
          ],
          "name": "stdout"
        }
      ]
    },
    {
      "cell_type": "code",
      "metadata": {
        "id": "KSVKtTBZKh6x"
      },
      "source": [
        "# from random import shuffle\n",
        "\n",
        "# #shuffing train data\n",
        "# ind_list=list(range(len(X_train)))\n",
        "# shuffle(ind_list)\n",
        "# X_train=X_train[ind_list,:]\n",
        "# Y_train=Y_train[ind_list,:]\n",
        "\n",
        "# #shuffing test data\n",
        "# ind_list=list(range(len(X_test)))\n",
        "# shuffle(ind_list)\n",
        "# X_test=X_test[ind_list,:]\n",
        "# Y_test=Y_test[ind_list,:]"
      ],
      "execution_count": 30,
      "outputs": []
    },
    {
      "cell_type": "code",
      "metadata": {
        "id": "KscHd1_H04_S"
      },
      "source": [
        "# reshape input to be [samples, time steps, features] which is required for LSTM\n",
        "X_train=X_train.reshape(X_train.shape[0],X_train.shape[1] ,1,1)\n",
        "X_test=X_test.reshape(X_test.shape[0],X_test.shape[1],1,1)"
      ],
      "execution_count": 46,
      "outputs": []
    },
    {
      "cell_type": "code",
      "metadata": {
        "id": "jiXRVnlL04_T"
      },
      "source": [
        "from tensorflow.keras.models import Sequential\n",
        "from tensorflow.keras.layers import Dense, LSTM, Dropout, Flatten\n",
        "from keras.layers.convolutional import Conv2D,MaxPooling2D\n",
        "import tensorflow as tf"
      ],
      "execution_count": 47,
      "outputs": []
    },
    {
      "cell_type": "code",
      "metadata": {
        "id": "FFNmXeaL04_T"
      },
      "source": [
        "# Stacked LSTM\n",
        "# model=Sequential()\n",
        "# model.add(LSTM(100,return_sequences=False,input_shape=X_train[0].shape))\n",
        "# model.add(Dense(output_size))\n",
        "# model.compile(loss='mean_squared_error',optimizer=tf.keras.optimizers.Adam(learning_rate=0.001))"
      ],
      "execution_count": null,
      "outputs": []
    },
    {
      "cell_type": "code",
      "metadata": {
        "id": "NWibAC9M7you"
      },
      "source": [
        "#CNN\n",
        "\n",
        "# width=X_train.shape[1]\n",
        "# height=X_train.shape[2]\n",
        "# batch_size=32\n",
        "# epochs=50\n",
        "# model=Sequential()\n",
        "# #Conv Layer-1\n",
        "# model.add(Conv2D(6,kernel_size=(5,1),input_shape=(width,height,1),data_format='channels_last',padding='same',activation='relu'))\n",
        "\n",
        "# #Max Pool Layer-1\n",
        "# model.add(MaxPooling2D(pool_size=(2,1),strides=(2,1)))\n",
        "\n",
        "# #Conv Layer-2\n",
        "# model.add(Conv2D(16,kernel_size=(5,1),activation='relu'))\n",
        "\n",
        "# #Max Pool Layer-2\n",
        "# model.add(MaxPooling2D(pool_size=(2,1),strides=(2,1)))\n",
        "\n",
        "# #Conv Layer-3\n",
        "# model.add(Conv2D(120,kernel_size=(5,1),activation='relu'))\n",
        "# model.add(Flatten())\n",
        "\n",
        "# #Fully Connected Layer-1\n",
        "# model.add(Dense(10,activation='relu'))\n",
        "\n",
        "\n",
        "# model.compile(optimizer='adam',loss='mean_squared_error')"
      ],
      "execution_count": 56,
      "outputs": []
    },
    {
      "cell_type": "code",
      "metadata": {
        "id": "rBPLkQ4r04_T",
        "colab": {
          "base_uri": "https://localhost:8080/"
        },
        "outputId": "cecb9fcf-3b49-4b48-e300-f00753477832"
      },
      "source": [
        "model.summary()"
      ],
      "execution_count": 57,
      "outputs": [
        {
          "output_type": "stream",
          "text": [
            "Model: \"sequential_8\"\n",
            "_________________________________________________________________\n",
            "Layer (type)                 Output Shape              Param #   \n",
            "=================================================================\n",
            "conv2d_18 (Conv2D)           (None, 100, 1, 6)         36        \n",
            "_________________________________________________________________\n",
            "max_pooling2d_11 (MaxPooling (None, 50, 1, 6)          0         \n",
            "_________________________________________________________________\n",
            "conv2d_19 (Conv2D)           (None, 46, 1, 16)         496       \n",
            "_________________________________________________________________\n",
            "max_pooling2d_12 (MaxPooling (None, 23, 1, 16)         0         \n",
            "_________________________________________________________________\n",
            "conv2d_20 (Conv2D)           (None, 19, 1, 120)        9720      \n",
            "_________________________________________________________________\n",
            "flatten_4 (Flatten)          (None, 2280)              0         \n",
            "_________________________________________________________________\n",
            "dense_4 (Dense)              (None, 10)                22810     \n",
            "=================================================================\n",
            "Total params: 33,062\n",
            "Trainable params: 33,062\n",
            "Non-trainable params: 0\n",
            "_________________________________________________________________\n"
          ],
          "name": "stdout"
        }
      ]
    },
    {
      "cell_type": "code",
      "metadata": {
        "id": "qpjF-EpZ04_T"
      },
      "source": [
        "X_train=np.asarray(X_train).astype(np.float32)\n",
        "Y_train=np.asarray(Y_train).astype(np.float32)\n",
        "X_test=np.asarray(X_test).astype(np.float32)\n",
        "Y_test=np.asarray(Y_test).astype(np.float32)"
      ],
      "execution_count": 58,
      "outputs": []
    },
    {
      "cell_type": "code",
      "metadata": {
        "id": "QLUniSga04_U",
        "colab": {
          "base_uri": "https://localhost:8080/"
        },
        "outputId": "720c060a-f38e-47a5-8516-8c49f200e6d4"
      },
      "source": [
        "model.fit(X_train,Y_train,validation_data=(X_test,Y_test),epochs=epochs,batch_size=batch_size,verbose=1)"
      ],
      "execution_count": 59,
      "outputs": [
        {
          "output_type": "stream",
          "text": [
            "Epoch 1/50\n",
            "7529/7529 [==============================] - 22s 3ms/step - loss: 0.0051 - val_loss: 4.0013e-04\n",
            "Epoch 2/50\n",
            "7529/7529 [==============================] - 22s 3ms/step - loss: 5.5515e-04 - val_loss: 3.6124e-04\n",
            "Epoch 3/50\n",
            "7529/7529 [==============================] - 22s 3ms/step - loss: 5.3095e-04 - val_loss: 3.7744e-04\n",
            "Epoch 4/50\n",
            "7529/7529 [==============================] - 22s 3ms/step - loss: 5.1236e-04 - val_loss: 3.7037e-04\n",
            "Epoch 5/50\n",
            "7529/7529 [==============================] - 22s 3ms/step - loss: 5.1945e-04 - val_loss: 3.7580e-04\n",
            "Epoch 6/50\n",
            "7529/7529 [==============================] - 22s 3ms/step - loss: 5.0466e-04 - val_loss: 3.6980e-04\n",
            "Epoch 7/50\n",
            "7529/7529 [==============================] - 22s 3ms/step - loss: 5.0339e-04 - val_loss: 3.5329e-04\n",
            "Epoch 8/50\n",
            "7529/7529 [==============================] - 22s 3ms/step - loss: 5.0015e-04 - val_loss: 3.5726e-04\n",
            "Epoch 9/50\n",
            "7529/7529 [==============================] - 22s 3ms/step - loss: 5.0828e-04 - val_loss: 3.8253e-04\n",
            "Epoch 10/50\n",
            "7529/7529 [==============================] - 22s 3ms/step - loss: 4.9882e-04 - val_loss: 3.5789e-04\n",
            "Epoch 11/50\n",
            "7529/7529 [==============================] - 22s 3ms/step - loss: 4.9867e-04 - val_loss: 3.6249e-04\n",
            "Epoch 12/50\n",
            "7529/7529 [==============================] - 22s 3ms/step - loss: 5.0206e-04 - val_loss: 3.6271e-04\n",
            "Epoch 13/50\n",
            "7529/7529 [==============================] - 22s 3ms/step - loss: 4.9964e-04 - val_loss: 3.5605e-04\n",
            "Epoch 14/50\n",
            "7529/7529 [==============================] - 22s 3ms/step - loss: 4.9415e-04 - val_loss: 3.5942e-04\n",
            "Epoch 15/50\n",
            "7529/7529 [==============================] - 21s 3ms/step - loss: 4.9314e-04 - val_loss: 3.5928e-04\n",
            "Epoch 16/50\n",
            "7529/7529 [==============================] - 22s 3ms/step - loss: 4.9913e-04 - val_loss: 3.7041e-04\n",
            "Epoch 17/50\n",
            "7529/7529 [==============================] - 22s 3ms/step - loss: 4.9465e-04 - val_loss: 3.5718e-04\n",
            "Epoch 18/50\n",
            "7529/7529 [==============================] - 22s 3ms/step - loss: 4.9268e-04 - val_loss: 3.5582e-04\n",
            "Epoch 19/50\n",
            "7529/7529 [==============================] - 21s 3ms/step - loss: 4.8866e-04 - val_loss: 3.9576e-04\n",
            "Epoch 20/50\n",
            "7529/7529 [==============================] - 22s 3ms/step - loss: 5.0001e-04 - val_loss: 3.6285e-04\n",
            "Epoch 21/50\n",
            "7529/7529 [==============================] - 22s 3ms/step - loss: 4.9649e-04 - val_loss: 3.9267e-04\n",
            "Epoch 22/50\n",
            "7529/7529 [==============================] - 21s 3ms/step - loss: 4.9516e-04 - val_loss: 3.8141e-04\n",
            "Epoch 23/50\n",
            "7529/7529 [==============================] - 22s 3ms/step - loss: 4.9738e-04 - val_loss: 3.5705e-04\n",
            "Epoch 24/50\n",
            "7529/7529 [==============================] - 22s 3ms/step - loss: 5.0684e-04 - val_loss: 3.7055e-04\n",
            "Epoch 25/50\n",
            "7529/7529 [==============================] - 22s 3ms/step - loss: 5.0038e-04 - val_loss: 3.5749e-04\n",
            "Epoch 26/50\n",
            "7529/7529 [==============================] - 21s 3ms/step - loss: 4.9109e-04 - val_loss: 3.5473e-04\n",
            "Epoch 27/50\n",
            "7529/7529 [==============================] - 21s 3ms/step - loss: 5.0037e-04 - val_loss: 3.6287e-04\n",
            "Epoch 28/50\n",
            "7529/7529 [==============================] - 21s 3ms/step - loss: 5.0586e-04 - val_loss: 3.6394e-04\n",
            "Epoch 29/50\n",
            "7529/7529 [==============================] - 22s 3ms/step - loss: 4.9455e-04 - val_loss: 3.8060e-04\n",
            "Epoch 30/50\n",
            "7529/7529 [==============================] - 21s 3ms/step - loss: 4.9959e-04 - val_loss: 3.5637e-04\n",
            "Epoch 31/50\n",
            "7529/7529 [==============================] - 21s 3ms/step - loss: 4.9454e-04 - val_loss: 3.5245e-04\n",
            "Epoch 32/50\n",
            "7529/7529 [==============================] - 22s 3ms/step - loss: 4.9901e-04 - val_loss: 3.5804e-04\n",
            "Epoch 33/50\n",
            "7529/7529 [==============================] - 21s 3ms/step - loss: 4.9826e-04 - val_loss: 3.5812e-04\n",
            "Epoch 34/50\n",
            "7529/7529 [==============================] - 21s 3ms/step - loss: 4.8575e-04 - val_loss: 3.5768e-04\n",
            "Epoch 35/50\n",
            "7529/7529 [==============================] - 21s 3ms/step - loss: 4.9459e-04 - val_loss: 4.1684e-04\n",
            "Epoch 36/50\n",
            "7529/7529 [==============================] - 21s 3ms/step - loss: 5.0144e-04 - val_loss: 3.7943e-04\n",
            "Epoch 37/50\n",
            "7529/7529 [==============================] - 21s 3ms/step - loss: 4.9452e-04 - val_loss: 3.6020e-04\n",
            "Epoch 38/50\n",
            "7529/7529 [==============================] - 22s 3ms/step - loss: 4.9213e-04 - val_loss: 3.7266e-04\n",
            "Epoch 39/50\n",
            "7529/7529 [==============================] - 21s 3ms/step - loss: 4.9526e-04 - val_loss: 3.6364e-04\n",
            "Epoch 40/50\n",
            "7529/7529 [==============================] - 22s 3ms/step - loss: 4.9691e-04 - val_loss: 3.5742e-04\n",
            "Epoch 41/50\n",
            "7529/7529 [==============================] - 22s 3ms/step - loss: 4.9749e-04 - val_loss: 3.6736e-04\n",
            "Epoch 42/50\n",
            "7529/7529 [==============================] - 21s 3ms/step - loss: 4.9135e-04 - val_loss: 3.5429e-04\n",
            "Epoch 43/50\n",
            "7529/7529 [==============================] - 22s 3ms/step - loss: 4.9592e-04 - val_loss: 3.5372e-04\n",
            "Epoch 44/50\n",
            "7529/7529 [==============================] - 22s 3ms/step - loss: 4.8933e-04 - val_loss: 3.6723e-04\n",
            "Epoch 45/50\n",
            "7529/7529 [==============================] - 22s 3ms/step - loss: 4.9352e-04 - val_loss: 3.5844e-04\n",
            "Epoch 46/50\n",
            "7529/7529 [==============================] - 22s 3ms/step - loss: 4.9294e-04 - val_loss: 3.5632e-04\n",
            "Epoch 47/50\n",
            "7529/7529 [==============================] - 21s 3ms/step - loss: 4.8933e-04 - val_loss: 3.7189e-04\n",
            "Epoch 48/50\n",
            "7529/7529 [==============================] - 22s 3ms/step - loss: 4.9251e-04 - val_loss: 3.5338e-04\n",
            "Epoch 49/50\n",
            "7529/7529 [==============================] - 22s 3ms/step - loss: 4.9750e-04 - val_loss: 3.7809e-04\n",
            "Epoch 50/50\n",
            "7529/7529 [==============================] - 21s 3ms/step - loss: 4.8745e-04 - val_loss: 3.5426e-04\n"
          ],
          "name": "stdout"
        },
        {
          "output_type": "execute_result",
          "data": {
            "text/plain": [
              "<tensorflow.python.keras.callbacks.History at 0x7f9d312d9250>"
            ]
          },
          "metadata": {
            "tags": []
          },
          "execution_count": 59
        }
      ]
    },
    {
      "cell_type": "code",
      "metadata": {
        "id": "y21QBmon8rXu",
        "colab": {
          "base_uri": "https://localhost:8080/"
        },
        "outputId": "e81c543f-d15f-4ac7-9d2b-2693ae933455"
      },
      "source": [
        "pred=model.predict(X_test)\n",
        "\n",
        "import math\n",
        "from sklearn.metrics import mean_squared_error\n",
        "math.sqrt(mean_squared_error(Y_test,pred))"
      ],
      "execution_count": 60,
      "outputs": [
        {
          "output_type": "execute_result",
          "data": {
            "text/plain": [
              "0.018821575595683822"
            ]
          },
          "metadata": {
            "tags": []
          },
          "execution_count": 60
        }
      ]
    },
    {
      "cell_type": "code",
      "metadata": {
        "id": "rEVV-iAe9k1L",
        "colab": {
          "base_uri": "https://localhost:8080/"
        },
        "outputId": "2c0ac173-2f2b-45cd-a237-6a392f44c56b"
      },
      "source": [
        "symbol='ONGC.NS'\n",
        "stock=close[symbol]\n",
        "\n",
        "iters=50\n",
        "keep=10\n",
        "\n",
        "\n",
        "new_cnt=iters*keep\n",
        "old=stock[:-new_cnt].flatten()\n",
        "\n",
        "for i in range(0,iters):\n",
        "    seq=old[-input_size:]\n",
        "    seq=seq.reshape(1,input_size,1,1)\n",
        "    pred=np.array(model.predict(seq))[0]\n",
        "    old=np.concatenate((old,pred[:keep]),axis=0)\n",
        "\n",
        "print('prediction done!')\n",
        "\n",
        "math.sqrt(mean_squared_error(stock[-new_cnt:],old[-new_cnt:]))"
      ],
      "execution_count": 66,
      "outputs": [
        {
          "output_type": "stream",
          "text": [
            "prediction done!\n"
          ],
          "name": "stdout"
        },
        {
          "output_type": "execute_result",
          "data": {
            "text/plain": [
              "0.08285123124157585"
            ]
          },
          "metadata": {
            "tags": []
          },
          "execution_count": 66
        }
      ]
    },
    {
      "cell_type": "code",
      "metadata": {
        "id": "-YrWNew23Yxf",
        "colab": {
          "base_uri": "https://localhost:8080/",
          "height": 265
        },
        "outputId": "a36fd5f4-4d30-4c1b-e6d8-b473205caad4"
      },
      "source": [
        "old[:-new_cnt]=np.nan\n",
        "points=new_cnt+input_size\n",
        "\n",
        "plt.plot(stock[-points:])\n",
        "plt.plot(old[-points:])\n",
        "plt.show()"
      ],
      "execution_count": 67,
      "outputs": [
        {
          "output_type": "display_data",
          "data": {
            "image/png": "[encoded data removed]",
            "text/plain": [
              "<Figure size 432x288 with 1 Axes>"
            ]
          },
          "metadata": {
            "tags": [],
            "needs_background": "light"
          }
        }
      ]
    },
    {
      "cell_type": "code",
      "metadata": {
        "id": "Cuo3josCF9oj"
      },
      "source": [
        "model.save('stox.h5')"
      ],
      "execution_count": null,
      "outputs": []
    },
    {
      "cell_type": "code",
      "metadata": {
        "id": "RY3OJm2mJE33"
      },
      "source": [
        ""
      ],
      "execution_count": null,
      "outputs": []
    }
  ]
}
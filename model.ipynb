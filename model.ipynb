{
  "nbformat": 4,
  "nbformat_minor": 0,
  "metadata": {
    "kernelspec": {
      "display_name": "Python 3",
      "language": "python",
      "name": "python3"
    },
    "language_info": {
      "codemirror_mode": {
        "name": "ipython",
        "version": 3
      },
      "file_extension": ".py",
      "mimetype": "text/x-python",
      "name": "python",
      "nbconvert_exporter": "python",
      "pygments_lexer": "ipython3",
      "version": "3.8.5"
    },
    "colab": {
      "name": "model.ipynb",
      "provenance": []
    },
    "accelerator": "GPU"
  },
  "cells": [
    {
      "cell_type": "code",
      "metadata": {
        "id": "7PV0iIRk04_G"
      },
      "source": [
        "import requests\n",
        "import numpy as np\n",
        "import pandas as pd\n",
        "import matplotlib.pyplot as plt"
      ],
      "execution_count": 1,
      "outputs": []
    },
    {
      "cell_type": "code",
      "metadata": {
        "id": "6USnolsa04_M"
      },
      "source": [
        "# zerodha----paid data\n",
        "# alphavantage----no NSE/BSE data\n",
        "# quandl----no intraday data\n",
        "# yfinance----working\n",
        "\n",
        "# https://algotrading101.com/learn/google-finance-api-guide/\n",
        "# https://github.com/ranaroussi/yfinance"
      ],
      "execution_count": null,
      "outputs": []
    },
    {
      "cell_type": "code",
      "metadata": {
        "id": "hdWZJCIj04_N",
        "colab": {
          "base_uri": "https://localhost:8080/"
        },
        "outputId": "14957ea7-ea5f-4854-895d-1a4b3c2338a5"
      },
      "source": [
        "!pip install autoscraper\n",
        "!pip install python-dateutil\n",
        "!pip install yfinance"
      ],
      "execution_count": 2,
      "outputs": [
        {
          "output_type": "stream",
          "text": [
            "Collecting autoscraper\n",
            "  Downloading https://files.pythonhosted.org/packages/50/44/553afbb7624aaa16e71546196c1f3beb170dd555a2822785889a9da5c2e7/autoscraper-1.1.12-py3-none-any.whl\n",
            "Requirement already satisfied: bs4 in /usr/local/lib/python3.7/dist-packages (from autoscraper) (0.0.1)\n",
            "Requirement already satisfied: lxml in /usr/local/lib/python3.7/dist-packages (from autoscraper) (4.2.6)\n",
            "Requirement already satisfied: requests in /usr/local/lib/python3.7/dist-packages (from autoscraper) (2.23.0)\n",
            "Requirement already satisfied: beautifulsoup4 in /usr/local/lib/python3.7/dist-packages (from bs4->autoscraper) (4.6.3)\n",
            "Requirement already satisfied: certifi>=2017.4.17 in /usr/local/lib/python3.7/dist-packages (from requests->autoscraper) (2020.12.5)\n",
            "Requirement already satisfied: urllib3!=1.25.0,!=1.25.1,<1.26,>=1.21.1 in /usr/local/lib/python3.7/dist-packages (from requests->autoscraper) (1.24.3)\n",
            "Requirement already satisfied: idna<3,>=2.5 in /usr/local/lib/python3.7/dist-packages (from requests->autoscraper) (2.10)\n",
            "Requirement already satisfied: chardet<4,>=3.0.2 in /usr/local/lib/python3.7/dist-packages (from requests->autoscraper) (3.0.4)\n",
            "Installing collected packages: autoscraper\n",
            "Successfully installed autoscraper-1.1.12\n",
            "Requirement already satisfied: python-dateutil in /usr/local/lib/python3.7/dist-packages (2.8.1)\n",
            "Requirement already satisfied: six>=1.5 in /usr/local/lib/python3.7/dist-packages (from python-dateutil) (1.15.0)\n",
            "Collecting yfinance\n",
            "  Downloading https://files.pythonhosted.org/packages/a7/ee/315752b9ef281ba83c62aa7ec2e2074f85223da6e7e74efb4d3e11c0f510/yfinance-0.1.59.tar.gz\n",
            "Requirement already satisfied: pandas>=0.24 in /usr/local/lib/python3.7/dist-packages (from yfinance) (1.1.5)\n",
            "Requirement already satisfied: numpy>=1.15 in /usr/local/lib/python3.7/dist-packages (from yfinance) (1.19.5)\n",
            "Requirement already satisfied: requests>=2.20 in /usr/local/lib/python3.7/dist-packages (from yfinance) (2.23.0)\n",
            "Requirement already satisfied: multitasking>=0.0.7 in /usr/local/lib/python3.7/dist-packages (from yfinance) (0.0.9)\n",
            "Collecting lxml>=4.5.1\n",
            "\u001b[?25l  Downloading https://files.pythonhosted.org/packages/cf/4d/6537313bf58fe22b508f08cf3eb86b29b6f9edf68e00454224539421073b/lxml-4.6.3-cp37-cp37m-manylinux1_x86_64.whl (5.5MB)\n",
            "\u001b[K     |████████████████████████████████| 5.5MB 11.5MB/s \n",
            "\u001b[?25hRequirement already satisfied: python-dateutil>=2.7.3 in /usr/local/lib/python3.7/dist-packages (from pandas>=0.24->yfinance) (2.8.1)\n",
            "Requirement already satisfied: pytz>=2017.2 in /usr/local/lib/python3.7/dist-packages (from pandas>=0.24->yfinance) (2018.9)\n",
            "Requirement already satisfied: chardet<4,>=3.0.2 in /usr/local/lib/python3.7/dist-packages (from requests>=2.20->yfinance) (3.0.4)\n",
            "Requirement already satisfied: certifi>=2017.4.17 in /usr/local/lib/python3.7/dist-packages (from requests>=2.20->yfinance) (2020.12.5)\n",
            "Requirement already satisfied: urllib3!=1.25.0,!=1.25.1,<1.26,>=1.21.1 in /usr/local/lib/python3.7/dist-packages (from requests>=2.20->yfinance) (1.24.3)\n",
            "Requirement already satisfied: idna<3,>=2.5 in /usr/local/lib/python3.7/dist-packages (from requests>=2.20->yfinance) (2.10)\n",
            "Requirement already satisfied: six>=1.5 in /usr/local/lib/python3.7/dist-packages (from python-dateutil>=2.7.3->pandas>=0.24->yfinance) (1.15.0)\n",
            "Building wheels for collected packages: yfinance\n",
            "  Building wheel for yfinance (setup.py) ... \u001b[?25l\u001b[?25hdone\n",
            "  Created wheel for yfinance: filename=yfinance-0.1.59-py2.py3-none-any.whl size=23442 sha256=ad0a71c2e70f90c3f7d07d94d3484bc8ef339e6a3c63dbee3fc98e5ec6c79b7a\n",
            "  Stored in directory: /root/.cache/pip/wheels/f8/2a/0f/4b5a86e1d52e451757eb6bc17fd899629f0925c777741b6d04\n",
            "Successfully built yfinance\n",
            "Installing collected packages: lxml, yfinance\n",
            "  Found existing installation: lxml 4.2.6\n",
            "    Uninstalling lxml-4.2.6:\n",
            "      Successfully uninstalled lxml-4.2.6\n",
            "Successfully installed lxml-4.6.3 yfinance-0.1.59\n"
          ],
          "name": "stdout"
        }
      ]
    },
    {
      "cell_type": "code",
      "metadata": {
        "id": "HzxEQ5qx04_O",
        "colab": {
          "base_uri": "https://localhost:8080/"
        },
        "outputId": "ef5f6ba9-1b6c-418a-eb7e-21c9fe9c0575"
      },
      "source": [
        "#gettting list of NIFTY50 stocks\n",
        "from autoscraper import AutoScraper\n",
        "\n",
        "url='https://en.wikipedia.org/wiki/NIFTY_50'\n",
        "want_list=['ADANIPORTS.NS']\n",
        "\n",
        "#scrapping data from wikipedia\n",
        "scraper=AutoScraper()\n",
        "n50=scraper.build(url,want_list)\n",
        "\n",
        "n50=n50[0:50]\n",
        "print(n50)"
      ],
      "execution_count": 4,
      "outputs": [
        {
          "output_type": "stream",
          "text": [
            "['ADANIPORTS.NS', 'ASIANPAINT.NS', 'AXISBANK.NS', 'BAJAJ-AUTO.NS', 'BAJFINANCE.NS', 'BAJAJFINSV.NS', 'BHARTIARTL.NS', 'BPCL.NS', 'BRITANNIA.NS', 'CIPLA.NS', 'COALINDIA.NS', 'DIVISLAB.NS', 'DRREDDY.NS', 'EICHERMOT.NS', 'GRASIM.NS', 'HCLTECH.NS', 'HDFC.NS', 'HDFCBANK.NS', 'HDFCLIFE.NS', 'HEROMOTOCO.NS', 'HINDALCO.NS', 'HINDUNILVR.NS', 'ICICIBANK.NS', 'INDUSINDBK.NS', 'INFY.NS', 'IOC.NS', 'ITC.NS', 'JSWSTEEL.NS', 'KOTAKBANK.NS', 'LT.NS', 'M&M.NS', 'MARUTI.NS', 'NESTLEIND.NS', 'NTPC.NS', 'ONGC.NS', 'POWERGRID.NS', 'RELIANCE.NS', 'SBIN.NS', 'SBILIFE.NS', 'SHREECEM.NS', 'SUNPHARMA.NS', 'TATAMOTORS.NS', 'TATASTEEL.NS', 'TCS.NS', 'TATACONSUM.NS', 'TECHM.NS', 'TITAN.NS', 'ULTRACEMCO.NS', 'UPL.NS', 'WIPRO.NS']\n"
          ],
          "name": "stdout"
        }
      ]
    },
    {
      "cell_type": "code",
      "metadata": {
        "id": "85uGz8Lb04_O",
        "colab": {
          "base_uri": "https://localhost:8080/"
        },
        "outputId": "392eb1fc-00a7-4aa8-a173-7eebf6eee2e9"
      },
      "source": [
        "import yfinance as yf\n",
        "from datetime import date\n",
        "from dateutil.relativedelta import relativedelta\n",
        "\n",
        "# we can only get last 60 days intraday day\n",
        "# so, setting dates accordingly\n",
        "end=str(date.today())\n",
        "start=str(date.today()+relativedelta(months=-2,days=+1))\n",
        "\n",
        "# appending symbols into a single string\n",
        "symbols_str=\"\"\n",
        "for s in n50:\n",
        "    symbols_str+=s+\" \"\n",
        "    \n",
        "# downloading last 60 days intraday(interval=2 mins) data of all symbols\n",
        "data=yf.download(tickers=symbols_str,interval='2m',auto_adjust=True,start=start,end=end)"
      ],
      "execution_count": 5,
      "outputs": [
        {
          "output_type": "stream",
          "text": [
            "[*********************100%***********************]  50 of 50 completed\n"
          ],
          "name": "stdout"
        }
      ]
    },
    {
      "cell_type": "code",
      "metadata": {
        "id": "Z-S6AZhR04_P",
        "colab": {
          "base_uri": "https://localhost:8080/"
        },
        "outputId": "045ce91e-2c3f-4d69-fa68-1590521979b2"
      },
      "source": [
        "#checking nan values\n",
        "close={}\n",
        "for symbol in n50:\n",
        "    close[symbol]=data['Close'][symbol].to_numpy()\n",
        "    print(symbol,np.count_nonzero(np.isnan(close[symbol])))"
      ],
      "execution_count": 10,
      "outputs": [
        {
          "output_type": "stream",
          "text": [
            "ADANIPORTS.NS 4\n",
            "ASIANPAINT.NS 3\n",
            "AXISBANK.NS 3\n",
            "BAJAJ-AUTO.NS 3\n",
            "BAJFINANCE.NS 3\n",
            "BAJAJFINSV.NS 3\n",
            "BHARTIARTL.NS 3\n",
            "BPCL.NS 3\n",
            "BRITANNIA.NS 3\n",
            "CIPLA.NS 4\n",
            "COALINDIA.NS 3\n",
            "DIVISLAB.NS 4\n",
            "DRREDDY.NS 3\n",
            "EICHERMOT.NS 3\n",
            "GRASIM.NS 4\n",
            "HCLTECH.NS 3\n",
            "HDFC.NS 3\n",
            "HDFCBANK.NS 3\n",
            "HDFCLIFE.NS 3\n",
            "HEROMOTOCO.NS 5\n",
            "HINDALCO.NS 3\n",
            "HINDUNILVR.NS 3\n",
            "ICICIBANK.NS 3\n",
            "INDUSINDBK.NS 3\n",
            "INFY.NS 3\n",
            "IOC.NS 3\n",
            "ITC.NS 3\n",
            "JSWSTEEL.NS 3\n",
            "KOTAKBANK.NS 3\n",
            "LT.NS 2\n",
            "M&M.NS 3\n",
            "MARUTI.NS 3\n",
            "NESTLEIND.NS 4\n",
            "NTPC.NS 2\n",
            "ONGC.NS 3\n",
            "POWERGRID.NS 3\n",
            "RELIANCE.NS 3\n",
            "SBIN.NS 3\n",
            "SBILIFE.NS 3\n",
            "SHREECEM.NS 5\n",
            "SUNPHARMA.NS 3\n",
            "TATAMOTORS.NS 3\n",
            "TATASTEEL.NS 3\n",
            "TCS.NS 3\n",
            "TATACONSUM.NS 3\n",
            "TECHM.NS 3\n",
            "TITAN.NS 3\n",
            "ULTRACEMCO.NS 3\n",
            "UPL.NS 3\n",
            "WIPRO.NS 3\n"
          ],
          "name": "stdout"
        }
      ]
    },
    {
      "cell_type": "code",
      "metadata": {
        "id": "S07oOvj104_P",
        "colab": {
          "base_uri": "https://localhost:8080/"
        },
        "outputId": "90f04245-45e1-4836-c17f-c7f015cd8014"
      },
      "source": [
        "#removing nan values\n",
        "for symbol in n50:\n",
        "    close[symbol]= [c for c in close[symbol] if not np.isnan(c)] \n",
        "    print(symbol,np.count_nonzero(np.isnan(close[symbol])))"
      ],
      "execution_count": 11,
      "outputs": [
        {
          "output_type": "stream",
          "text": [
            "ADANIPORTS.NS 0\n",
            "ASIANPAINT.NS 0\n",
            "AXISBANK.NS 0\n",
            "BAJAJ-AUTO.NS 0\n",
            "BAJFINANCE.NS 0\n",
            "BAJAJFINSV.NS 0\n",
            "BHARTIARTL.NS 0\n",
            "BPCL.NS 0\n",
            "BRITANNIA.NS 0\n",
            "CIPLA.NS 0\n",
            "COALINDIA.NS 0\n",
            "DIVISLAB.NS 0\n",
            "DRREDDY.NS 0\n",
            "EICHERMOT.NS 0\n",
            "GRASIM.NS 0\n",
            "HCLTECH.NS 0\n",
            "HDFC.NS 0\n",
            "HDFCBANK.NS 0\n",
            "HDFCLIFE.NS 0\n",
            "HEROMOTOCO.NS 0\n",
            "HINDALCO.NS 0\n",
            "HINDUNILVR.NS 0\n",
            "ICICIBANK.NS 0\n",
            "INDUSINDBK.NS 0\n",
            "INFY.NS 0\n",
            "IOC.NS 0\n",
            "ITC.NS 0\n",
            "JSWSTEEL.NS 0\n",
            "KOTAKBANK.NS 0\n",
            "LT.NS 0\n",
            "M&M.NS 0\n",
            "MARUTI.NS 0\n",
            "NESTLEIND.NS 0\n",
            "NTPC.NS 0\n",
            "ONGC.NS 0\n",
            "POWERGRID.NS 0\n",
            "RELIANCE.NS 0\n",
            "SBIN.NS 0\n",
            "SBILIFE.NS 0\n",
            "SHREECEM.NS 0\n",
            "SUNPHARMA.NS 0\n",
            "TATAMOTORS.NS 0\n",
            "TATASTEEL.NS 0\n",
            "TCS.NS 0\n",
            "TATACONSUM.NS 0\n",
            "TECHM.NS 0\n",
            "TITAN.NS 0\n",
            "ULTRACEMCO.NS 0\n",
            "UPL.NS 0\n",
            "WIPRO.NS 0\n"
          ],
          "name": "stdout"
        }
      ]
    },
    {
      "cell_type": "code",
      "metadata": {
        "id": "e7_axRSK04_Q",
        "colab": {
          "base_uri": "https://localhost:8080/",
          "height": 282
        },
        "outputId": "aaaf1375-0fbc-4365-829e-013993b8cbe8"
      },
      "source": [
        "# plot of closing price of ITC stock\n",
        "plt.plot(close['CIPLA.NS'])"
      ],
      "execution_count": 12,
      "outputs": [
        {
          "output_type": "execute_result",
          "data": {
            "text/plain": [
              "[<matplotlib.lines.Line2D at 0x7fabadfd19d0>]"
            ]
          },
          "metadata": {
            "tags": []
          },
          "execution_count": 12
        },
        {
          "output_type": "display_data",
          "data": {
            "image/png": "[encoded data removed]",
            "text/plain": [
              "<Figure size 432x288 with 1 Axes>"
            ]
          },
          "metadata": {
            "tags": [],
            "needs_background": "light"
          }
        }
      ]
    },
    {
      "cell_type": "code",
      "metadata": {
        "id": "JxDfQuYx04_Q"
      },
      "source": [
        "# scaling data in range (0,1)\n",
        "from sklearn.preprocessing import MinMaxScaler\n",
        "\n",
        "scaler={}\n",
        "for symbol,arr in close.items():\n",
        "    # defining min max scaler for the symbol\n",
        "    scaler[symbol]=MinMaxScaler(feature_range=(0,1))\n",
        "    \n",
        "    # scaling data\n",
        "    arr=scaler[symbol].fit_transform(np.array(arr).reshape(-1, 1))\n",
        "    close[symbol]=np.array(arr)\n",
        "    "
      ],
      "execution_count": 13,
      "outputs": []
    },
    {
      "cell_type": "code",
      "metadata": {
        "id": "hr6lDE0j04_R"
      },
      "source": [
        "# generate sequence data to feed to RNN\n",
        "# X:[a0 a1 a2 ...... a59] Y:[a60] seq_size=60\n",
        "\n",
        "def generate_seq_data(data,input_size,output_size):\n",
        "    #all elements except last index is X and last index is Y\n",
        "    seq_data=[]\n",
        "    for i in range(input_size+output_size-1,len(data)):\n",
        "        seq_data.append(data[i-input_size-output_size+1:i+1])\n",
        "        \n",
        "    return np.array(seq_data,dtype=\"object\").reshape(len(seq_data),input_size+output_size)\n",
        "\n",
        "seq_data={}\n",
        "input_size=100\n",
        "output_size=10\n",
        "for symbol in n50:\n",
        "    seq_data[symbol]=generate_seq_data(close[symbol],input_size,output_size)\n"
      ],
      "execution_count": 14,
      "outputs": []
    },
    {
      "cell_type": "code",
      "metadata": {
        "id": "LtoBxbYn04_R",
        "colab": {
          "base_uri": "https://localhost:8080/"
        },
        "outputId": "17631dea-81ce-4253-9b75-421704225a00"
      },
      "source": [
        "seq_data['ITC.NS'].shape"
      ],
      "execution_count": 15,
      "outputs": [
        {
          "output_type": "execute_result",
          "data": {
            "text/plain": [
              "(6074, 110)"
            ]
          },
          "metadata": {
            "tags": []
          },
          "execution_count": 15
        }
      ]
    },
    {
      "cell_type": "code",
      "metadata": {
        "id": "Oyl1vouL04_R"
      },
      "source": [
        "X_train,Y_train,X_test,Y_test=[],[],[],[]\n",
        "\n",
        "\n",
        "for symbol in n50:\n",
        "    sd=seq_data[symbol]\n",
        "    \n",
        "    # splitting in 80:20 ratio\n",
        "    split_index=int(0.8*len(sd))\n",
        "    train=sd[0:split_index]\n",
        "    test=sd[split_index:]\n",
        "    \n",
        "    X_train.extend(train[:,:-output_size]) # all columns except last\n",
        "    Y_train.extend(train[:,-output_size:]) # last column\n",
        "    \n",
        "    X_test.extend(test[:,:-output_size]) # all columns except last\n",
        "    Y_test.extend(test[:,-output_size:]) # last column\n",
        "\n",
        "    \n",
        "X_train,Y_train,X_test,Y_test=np.array(X_train),np.array(Y_train),np.array(X_test),np.array(Y_test)\n"
      ],
      "execution_count": 69,
      "outputs": []
    },
    {
      "cell_type": "code",
      "metadata": {
        "id": "1AuNQLAt04_S",
        "colab": {
          "base_uri": "https://localhost:8080/"
        },
        "outputId": "83fa6bb7-19a7-4430-eab3-9eb1583d1f20"
      },
      "source": [
        "print(X_train.shape)\n",
        "print(Y_train.shape)"
      ],
      "execution_count": 70,
      "outputs": [
        {
          "output_type": "stream",
          "text": [
            "(242943, 100)\n",
            "(242943, 10)\n"
          ],
          "name": "stdout"
        }
      ]
    },
    {
      "cell_type": "code",
      "metadata": {
        "id": "Grao2Wqb04_S",
        "colab": {
          "base_uri": "https://localhost:8080/"
        },
        "outputId": "21565963-c445-406a-aade-9a5e115072d6"
      },
      "source": [
        "print(X_test.shape)\n",
        "print(Y_test.shape)"
      ],
      "execution_count": 71,
      "outputs": [
        {
          "output_type": "stream",
          "text": [
            "(60750, 100)\n",
            "(60750, 10)\n"
          ],
          "name": "stdout"
        }
      ]
    },
    {
      "cell_type": "code",
      "metadata": {
        "id": "KSVKtTBZKh6x"
      },
      "source": [
        "from random import shuffle\n",
        "\n",
        "#shuffing train data\n",
        "ind_list=list(range(len(X_train)))\n",
        "shuffle(ind_list)\n",
        "X_train=X_train[ind_list,:]\n",
        "Y_train=Y_train[ind_list,:]\n",
        "\n",
        "#shuffing test data\n",
        "ind_list=list(range(len(X_test)))\n",
        "shuffle(ind_list)\n",
        "X_test=X_test[ind_list,:]\n",
        "Y_test=Y_test[ind_list,:]"
      ],
      "execution_count": 73,
      "outputs": []
    },
    {
      "cell_type": "code",
      "metadata": {
        "id": "KscHd1_H04_S"
      },
      "source": [
        "# reshape input to be [samples, time steps, features] which is required for LSTM\n",
        "X_train=X_train.reshape(X_train.shape[0],X_train.shape[1] ,1)\n",
        "X_test=X_test.reshape(X_test.shape[0],X_test.shape[1],1)"
      ],
      "execution_count": 74,
      "outputs": []
    },
    {
      "cell_type": "code",
      "metadata": {
        "id": "jiXRVnlL04_T"
      },
      "source": [
        "from tensorflow.keras.models import Sequential\n",
        "from tensorflow.keras.layers import Dense, LSTM, Dropout\n",
        "import tensorflow as tf"
      ],
      "execution_count": 84,
      "outputs": []
    },
    {
      "cell_type": "code",
      "metadata": {
        "id": "FFNmXeaL04_T"
      },
      "source": [
        "# Stacked LSTM\n",
        "model=Sequential()\n",
        "model.add(LSTM(100,return_sequences=False,input_shape=X_train[0].shape))\n",
        "# model.add(LSTM(128,return_sequences=True))\n",
        "# model.add(LSTM(256,return_sequences=True))\n",
        "# model.add(LSTM(128,return_sequences=True))\n",
        "# model.add(LSTM(64,return_sequences=True))\n",
        "# model.add(LSTM(output_size,return_sequences=False))\n",
        "model.add(Dense(output_size))\n",
        "model.compile(loss='mean_squared_error',optimizer=tf.keras.optimizers.Adam(learning_rate=0.001))"
      ],
      "execution_count": 100,
      "outputs": []
    },
    {
      "cell_type": "code",
      "metadata": {
        "id": "rBPLkQ4r04_T",
        "colab": {
          "base_uri": "https://localhost:8080/"
        },
        "outputId": "00c7ba8d-471e-4517-b726-da50f519a060"
      },
      "source": [
        "model.summary()"
      ],
      "execution_count": 101,
      "outputs": [
        {
          "output_type": "stream",
          "text": [
            "Model: \"sequential_10\"\n",
            "_________________________________________________________________\n",
            "Layer (type)                 Output Shape              Param #   \n",
            "=================================================================\n",
            "lstm_42 (LSTM)               (None, 100)               40800     \n",
            "_________________________________________________________________\n",
            "dense_1 (Dense)              (None, 10)                1010      \n",
            "=================================================================\n",
            "Total params: 41,810\n",
            "Trainable params: 41,810\n",
            "Non-trainable params: 0\n",
            "_________________________________________________________________\n"
          ],
          "name": "stdout"
        }
      ]
    },
    {
      "cell_type": "code",
      "metadata": {
        "id": "qpjF-EpZ04_T"
      },
      "source": [
        "X_train=np.asarray(X_train).astype(np.float32)\n",
        "Y_train=np.asarray(Y_train).astype(np.float32)\n",
        "X_test=np.asarray(X_test).astype(np.float32)\n",
        "Y_test=np.asarray(Y_test).astype(np.float32)"
      ],
      "execution_count": 102,
      "outputs": []
    },
    {
      "cell_type": "code",
      "metadata": {
        "id": "QLUniSga04_U",
        "colab": {
          "base_uri": "https://localhost:8080/"
        },
        "outputId": "ee31d6e9-1053-4a7d-b0e2-57cf58b971d6"
      },
      "source": [
        "model.fit(X_train,Y_train,validation_data=(X_test,Y_test),epochs=10,batch_size=32,verbose=1)"
      ],
      "execution_count": 103,
      "outputs": [
        {
          "output_type": "stream",
          "text": [
            "Epoch 1/10\n",
            "7592/7592 [==============================] - 49s 6ms/step - loss: 0.0026 - val_loss: 3.6946e-04\n",
            "Epoch 2/10\n",
            "7592/7592 [==============================] - 47s 6ms/step - loss: 5.0032e-04 - val_loss: 3.7831e-04\n",
            "Epoch 3/10\n",
            "7592/7592 [==============================] - 47s 6ms/step - loss: 4.8603e-04 - val_loss: 3.6326e-04\n",
            "Epoch 4/10\n",
            "7592/7592 [==============================] - 47s 6ms/step - loss: 4.7959e-04 - val_loss: 3.6020e-04\n",
            "Epoch 5/10\n",
            "7592/7592 [==============================] - 47s 6ms/step - loss: 4.8020e-04 - val_loss: 4.0414e-04\n",
            "Epoch 6/10\n",
            "7592/7592 [==============================] - 47s 6ms/step - loss: 4.8274e-04 - val_loss: 3.6456e-04\n",
            "Epoch 7/10\n",
            "7592/7592 [==============================] - 47s 6ms/step - loss: 4.8697e-04 - val_loss: 3.5845e-04\n",
            "Epoch 8/10\n",
            "7592/7592 [==============================] - 47s 6ms/step - loss: 4.8222e-04 - val_loss: 3.6560e-04\n",
            "Epoch 9/10\n",
            "7592/7592 [==============================] - 47s 6ms/step - loss: 4.7815e-04 - val_loss: 3.6144e-04\n",
            "Epoch 10/10\n",
            "7592/7592 [==============================] - 47s 6ms/step - loss: 4.9028e-04 - val_loss: 3.5857e-04\n"
          ],
          "name": "stdout"
        },
        {
          "output_type": "execute_result",
          "data": {
            "text/plain": [
              "<tensorflow.python.keras.callbacks.History at 0x7fa9a5f9f590>"
            ]
          },
          "metadata": {
            "tags": []
          },
          "execution_count": 103
        }
      ]
    },
    {
      "cell_type": "code",
      "metadata": {
        "id": "y21QBmon8rXu",
        "colab": {
          "base_uri": "https://localhost:8080/"
        },
        "outputId": "dd33ba17-22cb-456c-dd7a-d7218778adc1"
      },
      "source": [
        "pred=model.predict(X_test)\n",
        "\n",
        "import math\n",
        "from sklearn.metrics import mean_squared_error\n",
        "math.sqrt(mean_squared_error(Y_test,pred))"
      ],
      "execution_count": 104,
      "outputs": [
        {
          "output_type": "execute_result",
          "data": {
            "text/plain": [
              "0.01893581141080016"
            ]
          },
          "metadata": {
            "tags": []
          },
          "execution_count": 104
        }
      ]
    },
    {
      "cell_type": "code",
      "metadata": {
        "id": "rEVV-iAe9k1L",
        "colab": {
          "base_uri": "https://localhost:8080/"
        },
        "outputId": "1ba138d4-e59b-4bdb-f60e-0eb0b1b426de"
      },
      "source": [
        "symbol='ITC.NS'\n",
        "stock=close[symbol]\n",
        "\n",
        "iters=50\n",
        "keep=10\n",
        "\n",
        "\n",
        "new_cnt=iters*keep\n",
        "old=stock[:-new_cnt].flatten()\n",
        "\n",
        "for i in range(0,iters):\n",
        "    seq=old[-input_size:]\n",
        "    seq=seq.reshape(1,input_size,1)\n",
        "    pred=np.array(model.predict(seq))[0]\n",
        "    old=np.concatenate((old,pred[:keep]),axis=0)\n",
        "\n",
        "print('prediction done!')\n",
        "\n",
        "math.sqrt(mean_squared_error(stock[-new_cnt:],old[-new_cnt:]))"
      ],
      "execution_count": 105,
      "outputs": [
        {
          "output_type": "stream",
          "text": [
            "prediction done!\n"
          ],
          "name": "stdout"
        },
        {
          "output_type": "execute_result",
          "data": {
            "text/plain": [
              "0.07060422495710994"
            ]
          },
          "metadata": {
            "tags": []
          },
          "execution_count": 105
        }
      ]
    },
    {
      "cell_type": "code",
      "metadata": {
        "id": "-YrWNew23Yxf",
        "colab": {
          "base_uri": "https://localhost:8080/",
          "height": 265
        },
        "outputId": "f9a59ec0-acc0-4a5e-b87f-a2b35692d4c8"
      },
      "source": [
        "old[:-new_cnt]=np.nan\n",
        "points=new_cnt+input_size\n",
        "\n",
        "plt.plot(stock[-points:])\n",
        "plt.plot(old[-points:])\n",
        "plt.show()"
      ],
      "execution_count": 106,
      "outputs": [
        {
          "output_type": "display_data",
          "data": {
            "image/png": "[encoded data removed]",
            "text/plain": [
              "<Figure size 432x288 with 1 Axes>"
            ]
          },
          "metadata": {
            "tags": [],
            "needs_background": "light"
          }
        }
      ]
    },
    {
      "cell_type": "code",
      "metadata": {
        "id": "Cuo3josCF9oj"
      },
      "source": [
        "model.save('stox.h5')"
      ],
      "execution_count": null,
      "outputs": []
    },
    {
      "cell_type": "code",
      "metadata": {
        "id": "RY3OJm2mJE33"
      },
      "source": [
        ""
      ],
      "execution_count": null,
      "outputs": []
    }
  ]
}
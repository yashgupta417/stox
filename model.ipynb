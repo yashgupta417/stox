{
  "nbformat": 4,
  "nbformat_minor": 0,
  "metadata": {
    "kernelspec": {
      "display_name": "Python 3",
      "language": "python",
      "name": "python3"
    },
    "language_info": {
      "codemirror_mode": {
        "name": "ipython",
        "version": 3
      },
      "file_extension": ".py",
      "mimetype": "text/x-python",
      "name": "python",
      "nbconvert_exporter": "python",
      "pygments_lexer": "ipython3",
      "version": "3.8.5"
    },
    "colab": {
      "name": "model.ipynb",
      "provenance": []
    },
    "accelerator": "GPU"
  },
  "cells": [
    {
      "cell_type": "code",
      "metadata": {
        "id": "7PV0iIRk04_G"
      },
      "source": [
        "import requests\n",
        "import numpy as np\n",
        "import pandas as pd\n",
        "import matplotlib.pyplot as plt"
      ],
      "execution_count": 1,
      "outputs": []
    },
    {
      "cell_type": "code",
      "metadata": {
        "id": "6USnolsa04_M"
      },
      "source": [
        "# zerodha----paid data\n",
        "# alphavantage----no NSE/BSE data\n",
        "# quandl----no intraday data\n",
        "# yfinance----working\n",
        "\n",
        "# https://algotrading101.com/learn/google-finance-api-guide/\n",
        "# https://github.com/ranaroussi/yfinance"
      ],
      "execution_count": 2,
      "outputs": []
    },
    {
      "cell_type": "code",
      "metadata": {
        "id": "hdWZJCIj04_N",
        "colab": {
          "base_uri": "https://localhost:8080/"
        },
        "outputId": "a7cb3bde-d304-43ae-ee71-e67ffa74a207"
      },
      "source": [
        "!pip install autoscraper\n",
        "!pip install python-dateutil\n",
        "!pip install yfinance"
      ],
      "execution_count": 3,
      "outputs": [
        {
          "output_type": "stream",
          "text": [
            "Collecting autoscraper\n",
            "  Downloading https://files.pythonhosted.org/packages/50/44/553afbb7624aaa16e71546196c1f3beb170dd555a2822785889a9da5c2e7/autoscraper-1.1.12-py3-none-any.whl\n",
            "Requirement already satisfied: lxml in /usr/local/lib/python3.7/dist-packages (from autoscraper) (4.2.6)\n",
            "Requirement already satisfied: bs4 in /usr/local/lib/python3.7/dist-packages (from autoscraper) (0.0.1)\n",
            "Requirement already satisfied: requests in /usr/local/lib/python3.7/dist-packages (from autoscraper) (2.23.0)\n",
            "Requirement already satisfied: beautifulsoup4 in /usr/local/lib/python3.7/dist-packages (from bs4->autoscraper) (4.6.3)\n",
            "Requirement already satisfied: idna<3,>=2.5 in /usr/local/lib/python3.7/dist-packages (from requests->autoscraper) (2.10)\n",
            "Requirement already satisfied: urllib3!=1.25.0,!=1.25.1,<1.26,>=1.21.1 in /usr/local/lib/python3.7/dist-packages (from requests->autoscraper) (1.24.3)\n",
            "Requirement already satisfied: certifi>=2017.4.17 in /usr/local/lib/python3.7/dist-packages (from requests->autoscraper) (2020.12.5)\n",
            "Requirement already satisfied: chardet<4,>=3.0.2 in /usr/local/lib/python3.7/dist-packages (from requests->autoscraper) (3.0.4)\n",
            "Installing collected packages: autoscraper\n",
            "Successfully installed autoscraper-1.1.12\n",
            "Requirement already satisfied: python-dateutil in /usr/local/lib/python3.7/dist-packages (2.8.1)\n",
            "Requirement already satisfied: six>=1.5 in /usr/local/lib/python3.7/dist-packages (from python-dateutil) (1.15.0)\n",
            "Collecting yfinance\n",
            "  Downloading https://files.pythonhosted.org/packages/a7/ee/315752b9ef281ba83c62aa7ec2e2074f85223da6e7e74efb4d3e11c0f510/yfinance-0.1.59.tar.gz\n",
            "Requirement already satisfied: pandas>=0.24 in /usr/local/lib/python3.7/dist-packages (from yfinance) (1.1.5)\n",
            "Requirement already satisfied: numpy>=1.15 in /usr/local/lib/python3.7/dist-packages (from yfinance) (1.19.5)\n",
            "Requirement already satisfied: requests>=2.20 in /usr/local/lib/python3.7/dist-packages (from yfinance) (2.23.0)\n",
            "Requirement already satisfied: multitasking>=0.0.7 in /usr/local/lib/python3.7/dist-packages (from yfinance) (0.0.9)\n",
            "Collecting lxml>=4.5.1\n",
            "\u001b[?25l  Downloading https://files.pythonhosted.org/packages/cf/4d/6537313bf58fe22b508f08cf3eb86b29b6f9edf68e00454224539421073b/lxml-4.6.3-cp37-cp37m-manylinux1_x86_64.whl (5.5MB)\n",
            "\u001b[K     |████████████████████████████████| 5.5MB 6.0MB/s \n",
            "\u001b[?25hRequirement already satisfied: pytz>=2017.2 in /usr/local/lib/python3.7/dist-packages (from pandas>=0.24->yfinance) (2018.9)\n",
            "Requirement already satisfied: python-dateutil>=2.7.3 in /usr/local/lib/python3.7/dist-packages (from pandas>=0.24->yfinance) (2.8.1)\n",
            "Requirement already satisfied: certifi>=2017.4.17 in /usr/local/lib/python3.7/dist-packages (from requests>=2.20->yfinance) (2020.12.5)\n",
            "Requirement already satisfied: chardet<4,>=3.0.2 in /usr/local/lib/python3.7/dist-packages (from requests>=2.20->yfinance) (3.0.4)\n",
            "Requirement already satisfied: urllib3!=1.25.0,!=1.25.1,<1.26,>=1.21.1 in /usr/local/lib/python3.7/dist-packages (from requests>=2.20->yfinance) (1.24.3)\n",
            "Requirement already satisfied: idna<3,>=2.5 in /usr/local/lib/python3.7/dist-packages (from requests>=2.20->yfinance) (2.10)\n",
            "Requirement already satisfied: six>=1.5 in /usr/local/lib/python3.7/dist-packages (from python-dateutil>=2.7.3->pandas>=0.24->yfinance) (1.15.0)\n",
            "Building wheels for collected packages: yfinance\n",
            "  Building wheel for yfinance (setup.py) ... \u001b[?25l\u001b[?25hdone\n",
            "  Created wheel for yfinance: filename=yfinance-0.1.59-py2.py3-none-any.whl size=23442 sha256=b34c756a5c135c3c9ac7031405c9050b41efb7d3580754cc5e9c76a0911b16e4\n",
            "  Stored in directory: /root/.cache/pip/wheels/f8/2a/0f/4b5a86e1d52e451757eb6bc17fd899629f0925c777741b6d04\n",
            "Successfully built yfinance\n",
            "Installing collected packages: lxml, yfinance\n",
            "  Found existing installation: lxml 4.2.6\n",
            "    Uninstalling lxml-4.2.6:\n",
            "      Successfully uninstalled lxml-4.2.6\n",
            "Successfully installed lxml-4.6.3 yfinance-0.1.59\n"
          ],
          "name": "stdout"
        }
      ]
    },
    {
      "cell_type": "code",
      "metadata": {
        "id": "HzxEQ5qx04_O",
        "colab": {
          "base_uri": "https://localhost:8080/"
        },
        "outputId": "e6f6f5cf-7f7b-4097-c7b2-49baac27c91f"
      },
      "source": [
        "#gettting list of NIFTY50 stocks\n",
        "from autoscraper import AutoScraper\n",
        "\n",
        "url='https://en.wikipedia.org/wiki/NIFTY_50'\n",
        "want_list=['ADANIPORTS.NS']\n",
        "\n",
        "#scrapping data from wikipedia\n",
        "scraper=AutoScraper()\n",
        "n50=scraper.build(url,want_list)\n",
        "\n",
        "n50=n50[0:50]\n",
        "print(n50)"
      ],
      "execution_count": 4,
      "outputs": [
        {
          "output_type": "stream",
          "text": [
            "['ADANIPORTS.NS', 'ASIANPAINT.NS', 'AXISBANK.NS', 'BAJAJ-AUTO.NS', 'BAJFINANCE.NS', 'BAJAJFINSV.NS', 'BHARTIARTL.NS', 'BPCL.NS', 'BRITANNIA.NS', 'CIPLA.NS', 'COALINDIA.NS', 'DIVISLAB.NS', 'DRREDDY.NS', 'EICHERMOT.NS', 'GRASIM.NS', 'HCLTECH.NS', 'HDFC.NS', 'HDFCBANK.NS', 'HDFCLIFE.NS', 'HEROMOTOCO.NS', 'HINDALCO.NS', 'HINDUNILVR.NS', 'ICICIBANK.NS', 'INDUSINDBK.NS', 'INFY.NS', 'IOC.NS', 'ITC.NS', 'JSWSTEEL.NS', 'KOTAKBANK.NS', 'LT.NS', 'M&M.NS', 'MARUTI.NS', 'NESTLEIND.NS', 'NTPC.NS', 'ONGC.NS', 'POWERGRID.NS', 'RELIANCE.NS', 'SBIN.NS', 'SBILIFE.NS', 'SHREECEM.NS', 'SUNPHARMA.NS', 'TATAMOTORS.NS', 'TATASTEEL.NS', 'TCS.NS', 'TATACONSUM.NS', 'TECHM.NS', 'TITAN.NS', 'ULTRACEMCO.NS', 'UPL.NS', 'WIPRO.NS']\n"
          ],
          "name": "stdout"
        }
      ]
    },
    {
      "cell_type": "code",
      "metadata": {
        "id": "85uGz8Lb04_O",
        "colab": {
          "base_uri": "https://localhost:8080/"
        },
        "outputId": "20adf256-11e1-4694-8376-6fe37a3371d8"
      },
      "source": [
        "import yfinance as yf\n",
        "from datetime import date\n",
        "from dateutil.relativedelta import relativedelta\n",
        "\n",
        "# we can only get last 60 days intraday day\n",
        "# so, setting dates accordingly\n",
        "end=str(date.today())\n",
        "start=str(date.today()+relativedelta(months=-2,days=+1))\n",
        "\n",
        "# appending symbols into a single string\n",
        "symbols_str=\"\"\n",
        "for s in n50:\n",
        "    symbols_str+=s+\" \"\n",
        "    \n",
        "# downloading last 60 days intraday(interval=2 mins) data of all symbols\n",
        "data=yf.download(tickers=symbols_str,interval='2m',auto_adjust=True,start=start,end=end)"
      ],
      "execution_count": 11,
      "outputs": [
        {
          "output_type": "stream",
          "text": [
            "[*********************100%***********************]  50 of 50 completed\n"
          ],
          "name": "stdout"
        }
      ]
    },
    {
      "cell_type": "code",
      "metadata": {
        "id": "Z-S6AZhR04_P",
        "colab": {
          "base_uri": "https://localhost:8080/"
        },
        "outputId": "5d553af8-f170-46c2-e86f-471420d0f034"
      },
      "source": [
        "#checking nan values\n",
        "close={}\n",
        "for symbol in n50:\n",
        "    close[symbol]=data['Close'][symbol].to_numpy()\n",
        "    print(symbol,np.count_nonzero(np.isnan(close[symbol])))"
      ],
      "execution_count": 122,
      "outputs": [
        {
          "output_type": "stream",
          "text": [
            "ADANIPORTS.NS 565\n",
            "ASIANPAINT.NS 565\n",
            "AXISBANK.NS 1\n",
            "BAJAJ-AUTO.NS 1\n",
            "BAJFINANCE.NS 1\n",
            "BAJAJFINSV.NS 1\n",
            "BHARTIARTL.NS 1\n",
            "BPCL.NS 565\n",
            "BRITANNIA.NS 1\n",
            "CIPLA.NS 1\n",
            "COALINDIA.NS 565\n",
            "DIVISLAB.NS 1\n",
            "DRREDDY.NS 565\n",
            "EICHERMOT.NS 565\n",
            "GRASIM.NS 1\n",
            "HCLTECH.NS 1\n",
            "HDFC.NS 1\n",
            "HDFCBANK.NS 565\n",
            "HDFCLIFE.NS 565\n",
            "HEROMOTOCO.NS 565\n",
            "HINDALCO.NS 565\n",
            "HINDUNILVR.NS 565\n",
            "ICICIBANK.NS 565\n",
            "INDUSINDBK.NS 565\n",
            "INFY.NS 565\n",
            "IOC.NS 565\n",
            "ITC.NS 1\n",
            "JSWSTEEL.NS 1\n",
            "KOTAKBANK.NS 1\n",
            "LT.NS 1\n",
            "M&M.NS 1\n",
            "MARUTI.NS 565\n",
            "NESTLEIND.NS 565\n",
            "NTPC.NS 1\n",
            "ONGC.NS 565\n",
            "POWERGRID.NS 1\n",
            "RELIANCE.NS 1\n",
            "SBIN.NS 1\n",
            "SBILIFE.NS 1\n",
            "SHREECEM.NS 2\n",
            "SUNPHARMA.NS 565\n",
            "TATAMOTORS.NS 565\n",
            "TATASTEEL.NS 565\n",
            "TCS.NS 1\n",
            "TATACONSUM.NS 1\n",
            "TECHM.NS 565\n",
            "TITAN.NS 1\n",
            "ULTRACEMCO.NS 565\n",
            "UPL.NS 1\n",
            "WIPRO.NS 1\n"
          ],
          "name": "stdout"
        }
      ]
    },
    {
      "cell_type": "code",
      "metadata": {
        "id": "S07oOvj104_P",
        "colab": {
          "base_uri": "https://localhost:8080/"
        },
        "outputId": "c5b7960e-a10b-465c-e16b-0d9916998c9c"
      },
      "source": [
        "#removing nan values\n",
        "for symbol in n50:\n",
        "    close[symbol]= [c for c in close[symbol] if not np.isnan(c)] \n",
        "    print(symbol,np.count_nonzero(np.isnan(close[symbol])))"
      ],
      "execution_count": 123,
      "outputs": [
        {
          "output_type": "stream",
          "text": [
            "ADANIPORTS.NS 0\n",
            "ASIANPAINT.NS 0\n",
            "AXISBANK.NS 0\n",
            "BAJAJ-AUTO.NS 0\n",
            "BAJFINANCE.NS 0\n",
            "BAJAJFINSV.NS 0\n",
            "BHARTIARTL.NS 0\n",
            "BPCL.NS 0\n",
            "BRITANNIA.NS 0\n",
            "CIPLA.NS 0\n",
            "COALINDIA.NS 0\n",
            "DIVISLAB.NS 0\n",
            "DRREDDY.NS 0\n",
            "EICHERMOT.NS 0\n",
            "GRASIM.NS 0\n",
            "HCLTECH.NS 0\n",
            "HDFC.NS 0\n",
            "HDFCBANK.NS 0\n",
            "HDFCLIFE.NS 0\n",
            "HEROMOTOCO.NS 0\n",
            "HINDALCO.NS 0\n",
            "HINDUNILVR.NS 0\n",
            "ICICIBANK.NS 0\n",
            "INDUSINDBK.NS 0\n",
            "INFY.NS 0\n",
            "IOC.NS 0\n",
            "ITC.NS 0\n",
            "JSWSTEEL.NS 0\n",
            "KOTAKBANK.NS 0\n",
            "LT.NS 0\n",
            "M&M.NS 0\n",
            "MARUTI.NS 0\n",
            "NESTLEIND.NS 0\n",
            "NTPC.NS 0\n",
            "ONGC.NS 0\n",
            "POWERGRID.NS 0\n",
            "RELIANCE.NS 0\n",
            "SBIN.NS 0\n",
            "SBILIFE.NS 0\n",
            "SHREECEM.NS 0\n",
            "SUNPHARMA.NS 0\n",
            "TATAMOTORS.NS 0\n",
            "TATASTEEL.NS 0\n",
            "TCS.NS 0\n",
            "TATACONSUM.NS 0\n",
            "TECHM.NS 0\n",
            "TITAN.NS 0\n",
            "ULTRACEMCO.NS 0\n",
            "UPL.NS 0\n",
            "WIPRO.NS 0\n"
          ],
          "name": "stdout"
        }
      ]
    },
    {
      "cell_type": "code",
      "metadata": {
        "id": "e7_axRSK04_Q",
        "colab": {
          "base_uri": "https://localhost:8080/",
          "height": 282
        },
        "outputId": "8395b789-03f2-44a0-c05a-ff14f519c438"
      },
      "source": [
        "# plot of closing price of ITC stock\n",
        "plt.plot(close['ITC.NS'])"
      ],
      "execution_count": 124,
      "outputs": [
        {
          "output_type": "execute_result",
          "data": {
            "text/plain": [
              "[<matplotlib.lines.Line2D at 0x7f11437d7e10>]"
            ]
          },
          "metadata": {
            "tags": []
          },
          "execution_count": 124
        },
        {
          "output_type": "display_data",
          "data": {
            "image/png": "[encoded data removed]",
            "text/plain": [
              "<Figure size 432x288 with 1 Axes>"
            ]
          },
          "metadata": {
            "tags": [],
            "needs_background": "light"
          }
        }
      ]
    },
    {
      "cell_type": "code",
      "metadata": {
        "id": "JxDfQuYx04_Q"
      },
      "source": [
        "# scaling data in range (0,1)\n",
        "from sklearn.preprocessing import MinMaxScaler\n",
        "\n",
        "scaler={}\n",
        "for symbol,arr in close.items():\n",
        "    # defining min max scaler for the symbol\n",
        "    scaler[symbol]=MinMaxScaler(feature_range=(0,1))\n",
        "    \n",
        "    # scaling data\n",
        "    arr=scaler[symbol].fit_transform(np.array(arr).reshape(-1, 1))\n",
        "    close[symbol]=np.array(arr)\n",
        "    "
      ],
      "execution_count": 125,
      "outputs": []
    },
    {
      "cell_type": "code",
      "metadata": {
        "id": "hr6lDE0j04_R"
      },
      "source": [
        "# generate sequence data to feed to RNN\n",
        "# X:[a0 a1 a2 ...... a59] Y:[a60] seq_size=60\n",
        "\n",
        "def generate_seq_data(data,input_size,output_size):\n",
        "    #all elements except last index is X and last index is Y\n",
        "    seq_data=[]\n",
        "    for i in range(input_size+output_size-1,len(data)):\n",
        "        seq_data.append(data[i-input_size-output_size+1:i+1])\n",
        "        \n",
        "    return np.array(seq_data,dtype=\"object\").reshape(len(seq_data),input_size+output_size)\n",
        "\n",
        "seq_data={}\n",
        "input_size=100\n",
        "output_size=10\n",
        "for symbol in n50:\n",
        "    seq_data[symbol]=generate_seq_data(close[symbol],input_size,output_size)\n"
      ],
      "execution_count": 126,
      "outputs": []
    },
    {
      "cell_type": "code",
      "metadata": {
        "id": "LtoBxbYn04_R",
        "colab": {
          "base_uri": "https://localhost:8080/"
        },
        "outputId": "598eba3b-e546-4357-faa2-bd12b41d76ba"
      },
      "source": [
        "seq_data['ITC.NS'].shape"
      ],
      "execution_count": 127,
      "outputs": [
        {
          "output_type": "execute_result",
          "data": {
            "text/plain": [
              "(6095, 110)"
            ]
          },
          "metadata": {
            "tags": []
          },
          "execution_count": 127
        }
      ]
    },
    {
      "cell_type": "code",
      "metadata": {
        "id": "Oyl1vouL04_R"
      },
      "source": [
        "X_train,Y_train,X_test,Y_test=[],[],[],[]\n",
        "\n",
        "\n",
        "for symbol in n50:\n",
        "    sd=seq_data[symbol]\n",
        "    \n",
        "    # splitting in 80:20 ratio\n",
        "    split_index=int(0.8*len(sd))\n",
        "    train=sd[0:split_index]\n",
        "    test=sd[split_index:]\n",
        "    \n",
        "    X_train.extend(train[:,:-output_size]) # all columns except last\n",
        "    Y_train.extend(train[:,-output_size:]) # last column\n",
        "    \n",
        "    X_test.extend(test[:,:-output_size]) # all columns except last\n",
        "    Y_test.extend(test[:,-output_size:]) # last column\n",
        "\n",
        "    \n",
        "X_train,Y_train,X_test,Y_test=np.array(X_train),np.array(Y_train),np.array(X_test),np.array(Y_test)\n"
      ],
      "execution_count": 128,
      "outputs": []
    },
    {
      "cell_type": "code",
      "metadata": {
        "id": "1AuNQLAt04_S",
        "colab": {
          "base_uri": "https://localhost:8080/"
        },
        "outputId": "19365368-6870-42e9-91e6-a27903a0fff2"
      },
      "source": [
        "print(X_train.shape)\n",
        "print(Y_train.shape)"
      ],
      "execution_count": 129,
      "outputs": [
        {
          "output_type": "stream",
          "text": [
            "(233403, 100)\n",
            "(233403, 10)\n"
          ],
          "name": "stdout"
        }
      ]
    },
    {
      "cell_type": "code",
      "metadata": {
        "id": "Grao2Wqb04_S",
        "colab": {
          "base_uri": "https://localhost:8080/"
        },
        "outputId": "fb8d3a94-5a8c-4e72-81d7-807d4ab79fea"
      },
      "source": [
        "print(X_test.shape)\n",
        "print(Y_test.shape)"
      ],
      "execution_count": 130,
      "outputs": [
        {
          "output_type": "stream",
          "text": [
            "(58374, 100)\n",
            "(58374, 10)\n"
          ],
          "name": "stdout"
        }
      ]
    },
    {
      "cell_type": "code",
      "metadata": {
        "id": "KscHd1_H04_S"
      },
      "source": [
        "# reshape input to be [samples, time steps, features] which is required for LSTM\n",
        "X_train=X_train.reshape(X_train.shape[0],X_train.shape[1] ,1)\n",
        "X_test=X_test.reshape(X_test.shape[0],X_test.shape[1],1)"
      ],
      "execution_count": 131,
      "outputs": []
    },
    {
      "cell_type": "code",
      "metadata": {
        "id": "jiXRVnlL04_T"
      },
      "source": [
        "from tensorflow.keras.models import Sequential\n",
        "from tensorflow.keras.layers import Dense, LSTM, Dropout"
      ],
      "execution_count": 132,
      "outputs": []
    },
    {
      "cell_type": "code",
      "metadata": {
        "id": "FFNmXeaL04_T"
      },
      "source": [
        "# Stacked LSTM\n",
        "model=Sequential()\n",
        "model.add(LSTM(100,return_sequences=False,input_shape=X_train[0].shape))\n",
        "model.add(Dense(output_size))\n",
        "model.compile(loss='mean_squared_error',optimizer='adam')"
      ],
      "execution_count": 133,
      "outputs": []
    },
    {
      "cell_type": "code",
      "metadata": {
        "id": "rBPLkQ4r04_T",
        "colab": {
          "base_uri": "https://localhost:8080/"
        },
        "outputId": "20d31cc2-2de7-4a5d-e4af-5ba8f740402c"
      },
      "source": [
        "model.summary()"
      ],
      "execution_count": 134,
      "outputs": [
        {
          "output_type": "stream",
          "text": [
            "Model: \"sequential_20\"\n",
            "_________________________________________________________________\n",
            "Layer (type)                 Output Shape              Param #   \n",
            "=================================================================\n",
            "lstm_50 (LSTM)               (None, 100)               40800     \n",
            "_________________________________________________________________\n",
            "dense_20 (Dense)             (None, 10)                1010      \n",
            "=================================================================\n",
            "Total params: 41,810\n",
            "Trainable params: 41,810\n",
            "Non-trainable params: 0\n",
            "_________________________________________________________________\n"
          ],
          "name": "stdout"
        }
      ]
    },
    {
      "cell_type": "code",
      "metadata": {
        "id": "qpjF-EpZ04_T"
      },
      "source": [
        "X_train=np.asarray(X_train).astype(np.float32)\n",
        "Y_train=np.asarray(Y_train).astype(np.float32)\n",
        "X_test=np.asarray(X_test).astype(np.float32)\n",
        "Y_test=np.asarray(Y_test).astype(np.float32)"
      ],
      "execution_count": 135,
      "outputs": []
    },
    {
      "cell_type": "code",
      "metadata": {
        "id": "QLUniSga04_U",
        "colab": {
          "base_uri": "https://localhost:8080/"
        },
        "outputId": "0b0663a0-e44b-4530-a0eb-f4727c48f8f7"
      },
      "source": [
        "model.fit(X_train,Y_train,validation_data=(X_test,Y_test),epochs=10,batch_size=512,verbose=1)"
      ],
      "execution_count": 136,
      "outputs": [
        {
          "output_type": "stream",
          "text": [
            "Epoch 1/10\n",
            "456/456 [==============================] - 19s 37ms/step - loss: 0.0187 - val_loss: 6.0549e-04\n",
            "Epoch 2/10\n",
            "456/456 [==============================] - 16s 36ms/step - loss: 8.3211e-04 - val_loss: 5.3247e-04\n",
            "Epoch 3/10\n",
            "456/456 [==============================] - 16s 36ms/step - loss: 7.4454e-04 - val_loss: 4.8638e-04\n",
            "Epoch 4/10\n",
            "456/456 [==============================] - 16s 36ms/step - loss: 6.6753e-04 - val_loss: 4.4967e-04\n",
            "Epoch 5/10\n",
            "456/456 [==============================] - 16s 36ms/step - loss: 6.0584e-04 - val_loss: 4.3700e-04\n",
            "Epoch 6/10\n",
            "456/456 [==============================] - 16s 36ms/step - loss: 5.7499e-04 - val_loss: 4.0401e-04\n",
            "Epoch 7/10\n",
            "456/456 [==============================] - 16s 36ms/step - loss: 5.6190e-04 - val_loss: 3.9471e-04\n",
            "Epoch 8/10\n",
            "456/456 [==============================] - 16s 36ms/step - loss: 5.5480e-04 - val_loss: 4.1968e-04\n",
            "Epoch 9/10\n",
            "456/456 [==============================] - 16s 36ms/step - loss: 5.3493e-04 - val_loss: 3.8155e-04\n",
            "Epoch 10/10\n",
            "456/456 [==============================] - 16s 36ms/step - loss: 5.3086e-04 - val_loss: 3.7303e-04\n"
          ],
          "name": "stdout"
        },
        {
          "output_type": "execute_result",
          "data": {
            "text/plain": [
              "<tensorflow.python.keras.callbacks.History at 0x7f100e5b8190>"
            ]
          },
          "metadata": {
            "tags": []
          },
          "execution_count": 136
        }
      ]
    },
    {
      "cell_type": "code",
      "metadata": {
        "id": "y21QBmon8rXu",
        "colab": {
          "base_uri": "https://localhost:8080/"
        },
        "outputId": "0e1f6db4-c404-45e3-874c-bd4095843608"
      },
      "source": [
        "pred=model.predict(X_test)\n",
        "\n",
        "import math\n",
        "from sklearn.metrics import mean_squared_error\n",
        "math.sqrt(mean_squared_error(Y_test,pred))"
      ],
      "execution_count": 137,
      "outputs": [
        {
          "output_type": "execute_result",
          "data": {
            "text/plain": [
              "0.01931386462028769"
            ]
          },
          "metadata": {
            "tags": []
          },
          "execution_count": 137
        }
      ]
    },
    {
      "cell_type": "code",
      "metadata": {
        "id": "rEVV-iAe9k1L",
        "colab": {
          "base_uri": "https://localhost:8080/"
        },
        "outputId": "5f9b0882-2716-4d1d-b939-1e494ad0ff7a"
      },
      "source": [
        "symbol='ITC.NS'\n",
        "stock=close[symbol]\n",
        "\n",
        "iters=100\n",
        "keep=10\n",
        "\n",
        "old=stock[:-iters].flatten()\n",
        "for i in range(0,int(iters/keep)):\n",
        "    seq=old[-input_size:]\n",
        "    seq=seq.reshape(1,input_size,1)\n",
        "    pred=np.array(model.predict(seq))[0]\n",
        "    old=np.concatenate((old,pred[:keep]),axis=0)\n",
        "    print(i,pred[:keep])\n",
        "\n",
        "print('prediction done!')"
      ],
      "execution_count": 140,
      "outputs": [
        {
          "output_type": "stream",
          "text": [
            "0 [0.18598345 0.18776782 0.1867723  0.18675447 0.18708292 0.18750958\n",
            " 0.1871455  0.18787038 0.18720402 0.18799935]\n",
            "1 [0.18727517 0.18898864 0.18799871 0.1879864  0.18832165 0.18875577\n",
            " 0.18831134 0.1891065  0.18846963 0.18919617]\n",
            "2 [0.18849364 0.19021682 0.18920784 0.18920408 0.18954182 0.18997228\n",
            " 0.18951605 0.19031665 0.18967213 0.19040775]\n",
            "3 [0.18969712 0.1914257  0.19040385 0.1904014  0.19073959 0.19116475\n",
            " 0.19070756 0.19150786 0.19085772 0.19159326]\n",
            "4 [0.19087774 0.19261266 0.1915792  0.19157767 0.19191618 0.1923349\n",
            " 0.1918778  0.19267824 0.19202243 0.19275607]\n",
            "5 [0.19203642 0.19377795 0.19273305 0.1927326  0.19307141 0.19348364\n",
            " 0.1930264  0.19382721 0.19316578 0.19389766]\n",
            "6 [0.19317397 0.19492197 0.19386593 0.19386658 0.19420558 0.19461143\n",
            " 0.19415405 0.19495517 0.1942883  0.1950185 ]\n",
            "7 [0.1942909  0.1960453  0.19497833 0.19498003 0.19531928 0.19571881\n",
            " 0.19526136 0.19606271 0.19539057 0.19611916]\n",
            "8 [0.19538775 0.1971484  0.19607076 0.19607353 0.19641297 0.19680627\n",
            " 0.19634882 0.19715032 0.19647305 0.1972001 ]\n",
            "9 [0.19646502 0.19823182 0.19714373 0.19714752 0.19748719 0.19787432\n",
            " 0.19741693 0.1982185  0.19753627 0.19826181]\n",
            "prediction done!\n"
          ],
          "name": "stdout"
        }
      ]
    },
    {
      "cell_type": "code",
      "metadata": {
        "id": "-YrWNew23Yxf",
        "colab": {
          "base_uri": "https://localhost:8080/",
          "height": 265
        },
        "outputId": "35f5a4f8-a5fc-40b1-cbb3-2630c0461f93"
      },
      "source": [
        "old[:len(stock)-iters]=np.nan\n",
        "points=500\n",
        "\n",
        "plt.plot(stock[-points:])\n",
        "plt.plot(old[-points:])\n",
        "plt.show()"
      ],
      "execution_count": 141,
      "outputs": [
        {
          "output_type": "display_data",
          "data": {
            "image/png": "[encoded data removed]",
            "text/plain": [
              "<Figure size 432x288 with 1 Axes>"
            ]
          },
          "metadata": {
            "tags": [],
            "needs_background": "light"
          }
        }
      ]
    },
    {
      "cell_type": "code",
      "metadata": {
        "id": "Cuo3josCF9oj"
      },
      "source": [
        "model.save('stox.h5')"
      ],
      "execution_count": null,
      "outputs": []
    },
    {
      "cell_type": "code",
      "metadata": {
        "id": "mzPLvScMGx4Y"
      },
      "source": [
        ""
      ],
      "execution_count": null,
      "outputs": []
    }
  ]
}